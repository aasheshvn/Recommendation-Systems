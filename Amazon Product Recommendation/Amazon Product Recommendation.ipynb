{
 "cells": [
  {
   "cell_type": "markdown",
   "metadata": {},
   "source": [
    "# AMAZON PRODUCT RECOMMENDATION ENGINE"
   ]
  },
  {
   "cell_type": "markdown",
   "metadata": {},
   "source": [
    "## Objective: \n",
    "\n",
    "This recommendation engine provides E-commerce product recommendations based on the following approaches: \n",
    "- <b><u>Content-based recommendation:</u></b> Finding products with similar product desciptions. This approach can be targeted for new customers or customers with low engagement <i>(Some/No product rating provided)</i>. \n",
    "- <b><u>Model-based recommendation:</u></b> Finding similar products using item-item collaborative filtering. This approach can be targeted to recurring or loyal customers <i>(High Product engagement/ Rating)</i>.  \n"
   ]
  },
  {
   "cell_type": "markdown",
   "metadata": {},
   "source": [
    "### Importing Libraries"
   ]
  },
  {
   "cell_type": "code",
   "execution_count": 2,
   "metadata": {},
   "outputs": [
    {
     "name": "stderr",
     "output_type": "stream",
     "text": [
      "[nltk_data] Downloading package stopwords to\n",
      "[nltk_data]     C:\\Users\\aashe\\AppData\\Roaming\\nltk_data...\n",
      "[nltk_data]   Package stopwords is already up-to-date!\n",
      "Using TensorFlow backend.\n"
     ]
    }
   ],
   "source": [
    "import warnings\n",
    "warnings.filterwarnings(\"ignore\")\n",
    "import pandas as pd\n",
    "import numpy as np\n",
    "import matplotlib.pyplot as plt \n",
    "import string\n",
    "import nltk\n",
    "nltk.download('stopwords')\n",
    "from nltk.corpus import stopwords\n",
    "from sklearn.model_selection import train_test_split\n",
    "from sklearn.metrics import f1_score, classification_report\n",
    "import spacy\n",
    "nlp = spacy.load(\"en_core_web_sm\")\n",
    "import keras\n",
    "from keras.models import Sequential, Model\n",
    "from keras.layers import Dropout, Dense, Embedding, Flatten\n",
    "from keras.preprocessing.text import Tokenizer\n",
    "from keras.preprocessing.sequence import pad_sequences\n",
    "from keras.utils import to_categorical\n",
    "import math\n",
    "from wordcloud import WordCloud, STOPWORDS\n",
    "import ast\n",
    "import re"
   ]
  },
  {
   "cell_type": "markdown",
   "metadata": {},
   "source": [
    "## Content-based Filtering"
   ]
  },
  {
   "cell_type": "markdown",
   "metadata": {},
   "source": [
    "<b><u>Dataset Source:</u></b> Amazon product data (http://jmcauley.ucsd.edu/data/amazon/links.html)"
   ]
  },
  {
   "cell_type": "markdown",
   "metadata": {},
   "source": [
    "**Dataset 1:** Product metadata files for categories – Beauty, Grocery and Gourmet Food, Baby, Musical Instruments, Patio-Lawn and Garden were chosen. These files were appended and used for content-based recommendation"
   ]
  },
  {
   "cell_type": "markdown",
   "metadata": {},
   "source": [
    "### Reading the data files"
   ]
  },
  {
   "cell_type": "code",
   "execution_count": 7,
   "metadata": {},
   "outputs": [],
   "source": [
    "df_grocery_meta = pd.read_json(\"meta_Grocery_and_Gourmet_Food.json\",lines=True)\n",
    "df_baby_meta = pd.read_json(\"meta_Baby.json\",lines=True)\n",
    "df_beauty_meta = pd.read_json(\"meta_Beauty.json\",lines=True)\n",
    "df_musical_meta = pd.read_json(\"meta_Musical_Instruments.json\",lines=True)\n",
    "df_patio_meta = pd.read_json(\"meta_Patio_Lawn_and_Garden.json\",lines=True)\n"
   ]
  },
  {
   "cell_type": "code",
   "execution_count": 8,
   "metadata": {},
   "outputs": [],
   "source": [
    "df_grocery_meta['category'] = \"grocery\"\n",
    "df_baby_meta['category'] = \"baby\"\n",
    "df_musical_meta['category'] = \"musical\"\n",
    "df_patio_meta['category'] = \"patio_lawn\"\n",
    "df_beauty_meta['category'] = \"beauty\""
   ]
  },
  {
   "cell_type": "code",
   "execution_count": 9,
   "metadata": {},
   "outputs": [
    {
     "data": {
      "text/html": [
       "<div>\n",
       "<style scoped>\n",
       "    .dataframe tbody tr th:only-of-type {\n",
       "        vertical-align: middle;\n",
       "    }\n",
       "\n",
       "    .dataframe tbody tr th {\n",
       "        vertical-align: top;\n",
       "    }\n",
       "\n",
       "    .dataframe thead th {\n",
       "        text-align: right;\n",
       "    }\n",
       "</style>\n",
       "<table border=\"1\" class=\"dataframe\">\n",
       "  <thead>\n",
       "    <tr style=\"text-align: right;\">\n",
       "      <th></th>\n",
       "      <th>asin</th>\n",
       "      <th>description</th>\n",
       "      <th>title</th>\n",
       "      <th>imUrl</th>\n",
       "      <th>related</th>\n",
       "      <th>salesRank</th>\n",
       "      <th>categories</th>\n",
       "      <th>price</th>\n",
       "      <th>brand</th>\n",
       "      <th>category</th>\n",
       "    </tr>\n",
       "  </thead>\n",
       "  <tbody>\n",
       "    <tr>\n",
       "      <th>0</th>\n",
       "      <td>0657745316</td>\n",
       "      <td>This is real vanilla extract made with only 3 ...</td>\n",
       "      <td>100 Percent All Natural Vanilla Extract</td>\n",
       "      <td>http://ecx.images-amazon.com/images/I/41gFi5h0...</td>\n",
       "      <td>{'also_viewed': ['B001GE8N4Y']}</td>\n",
       "      <td>{'Grocery &amp; Gourmet Food': 374004}</td>\n",
       "      <td>[[Grocery &amp; Gourmet Food]]</td>\n",
       "      <td>NaN</td>\n",
       "      <td>NaN</td>\n",
       "      <td>grocery</td>\n",
       "    </tr>\n",
       "    <tr>\n",
       "      <th>1</th>\n",
       "      <td>0700026444</td>\n",
       "      <td>Silverpot Tea, Pure Darjeeling, is an exquisit...</td>\n",
       "      <td>Pure Darjeeling Tea: Loose Leaf</td>\n",
       "      <td>http://ecx.images-amazon.com/images/I/51hs8sox...</td>\n",
       "      <td>NaN</td>\n",
       "      <td>{'Grocery &amp; Gourmet Food': 620307}</td>\n",
       "      <td>[[Grocery &amp; Gourmet Food]]</td>\n",
       "      <td>NaN</td>\n",
       "      <td>NaN</td>\n",
       "      <td>grocery</td>\n",
       "    </tr>\n",
       "    <tr>\n",
       "      <th>2</th>\n",
       "      <td>1403796890</td>\n",
       "      <td>Must have for any WWE Fan\\n \\n \\n \\nFeaturing ...</td>\n",
       "      <td>WWE Kids Todler Velvet Slippers featuring John...</td>\n",
       "      <td>http://ecx.images-amazon.com/images/I/518SEST5...</td>\n",
       "      <td>NaN</td>\n",
       "      <td>NaN</td>\n",
       "      <td>[[Grocery &amp; Gourmet Food]]</td>\n",
       "      <td>3.99</td>\n",
       "      <td>NaN</td>\n",
       "      <td>grocery</td>\n",
       "    </tr>\n",
       "    <tr>\n",
       "      <th>3</th>\n",
       "      <td>141278509X</td>\n",
       "      <td>Infused with Vitamins and Electrolytes Good So...</td>\n",
       "      <td>Archer Farms Strawberry Dragonfruit Drink Mix ...</td>\n",
       "      <td>http://ecx.images-amazon.com/images/I/51CFQIis...</td>\n",
       "      <td>{'also_viewed': ['B0051IETTY']}</td>\n",
       "      <td>{'Grocery &amp; Gourmet Food': 620322}</td>\n",
       "      <td>[[Grocery &amp; Gourmet Food]]</td>\n",
       "      <td>NaN</td>\n",
       "      <td>NaN</td>\n",
       "      <td>grocery</td>\n",
       "    </tr>\n",
       "    <tr>\n",
       "      <th>4</th>\n",
       "      <td>1453060375</td>\n",
       "      <td>MiO Energy is your portable energy source givi...</td>\n",
       "      <td>Mio Energy Liquid Water Enhancer Black Cherry ...</td>\n",
       "      <td>http://ecx.images-amazon.com/images/I/51EUsMcn...</td>\n",
       "      <td>{'also_viewed': ['B006MSEOJ2', 'B005VOOQLO', '...</td>\n",
       "      <td>{'Grocery &amp; Gourmet Food': 268754}</td>\n",
       "      <td>[[Grocery &amp; Gourmet Food]]</td>\n",
       "      <td>11.99</td>\n",
       "      <td>Mio</td>\n",
       "      <td>grocery</td>\n",
       "    </tr>\n",
       "  </tbody>\n",
       "</table>\n",
       "</div>"
      ],
      "text/plain": [
       "         asin                                        description  \\\n",
       "0  0657745316  This is real vanilla extract made with only 3 ...   \n",
       "1  0700026444  Silverpot Tea, Pure Darjeeling, is an exquisit...   \n",
       "2  1403796890  Must have for any WWE Fan\\n \\n \\n \\nFeaturing ...   \n",
       "3  141278509X  Infused with Vitamins and Electrolytes Good So...   \n",
       "4  1453060375  MiO Energy is your portable energy source givi...   \n",
       "\n",
       "                                               title  \\\n",
       "0            100 Percent All Natural Vanilla Extract   \n",
       "1                    Pure Darjeeling Tea: Loose Leaf   \n",
       "2  WWE Kids Todler Velvet Slippers featuring John...   \n",
       "3  Archer Farms Strawberry Dragonfruit Drink Mix ...   \n",
       "4  Mio Energy Liquid Water Enhancer Black Cherry ...   \n",
       "\n",
       "                                               imUrl  \\\n",
       "0  http://ecx.images-amazon.com/images/I/41gFi5h0...   \n",
       "1  http://ecx.images-amazon.com/images/I/51hs8sox...   \n",
       "2  http://ecx.images-amazon.com/images/I/518SEST5...   \n",
       "3  http://ecx.images-amazon.com/images/I/51CFQIis...   \n",
       "4  http://ecx.images-amazon.com/images/I/51EUsMcn...   \n",
       "\n",
       "                                             related  \\\n",
       "0                    {'also_viewed': ['B001GE8N4Y']}   \n",
       "1                                                NaN   \n",
       "2                                                NaN   \n",
       "3                    {'also_viewed': ['B0051IETTY']}   \n",
       "4  {'also_viewed': ['B006MSEOJ2', 'B005VOOQLO', '...   \n",
       "\n",
       "                            salesRank                  categories  price  \\\n",
       "0  {'Grocery & Gourmet Food': 374004}  [[Grocery & Gourmet Food]]    NaN   \n",
       "1  {'Grocery & Gourmet Food': 620307}  [[Grocery & Gourmet Food]]    NaN   \n",
       "2                                 NaN  [[Grocery & Gourmet Food]]   3.99   \n",
       "3  {'Grocery & Gourmet Food': 620322}  [[Grocery & Gourmet Food]]    NaN   \n",
       "4  {'Grocery & Gourmet Food': 268754}  [[Grocery & Gourmet Food]]  11.99   \n",
       "\n",
       "  brand category  \n",
       "0   NaN  grocery  \n",
       "1   NaN  grocery  \n",
       "2   NaN  grocery  \n",
       "3   NaN  grocery  \n",
       "4   Mio  grocery  "
      ]
     },
     "execution_count": 9,
     "metadata": {},
     "output_type": "execute_result"
    }
   ],
   "source": [
    "df_metadata = pd.concat([df_grocery_meta,df_baby_meta,df_beauty_meta,df_musical_meta,df_patio_meta])\n",
    "df_metadata.head()"
   ]
  },
  {
   "cell_type": "code",
   "execution_count": null,
   "metadata": {},
   "outputs": [],
   "source": [
    "df_metadata = df_metadata.drop(columns = ['brand','imUrl','related','salesRank','categories','price'])"
   ]
  },
  {
   "cell_type": "markdown",
   "metadata": {},
   "source": [
    "### Distribution of Product Categories"
   ]
  },
  {
   "cell_type": "code",
   "execution_count": 22,
   "metadata": {},
   "outputs": [
    {
     "data": {
      "image/png": "[encoded data removed]",
      "text/plain": [
       "<Figure size 504x216 with 1 Axes>"
      ]
     },
     "metadata": {
      "needs_background": "light"
     },
     "output_type": "display_data"
    }
   ],
   "source": [
    "category_distribution = pd.DataFrame(df_metadata['category'].value_counts(normalize = True)).sort_values(by=['category'])\n",
    "plt.figure(figsize=(7,3))\n",
    "plt.barh(y = category_distribution.index, width = category_distribution['category'])\n",
    "plt.xlabel(\"Percentage of observations\",fontsize=20)\n",
    "plt.ylabel(\"Category\",fontsize=20)\n",
    "plt.title(\"Data across category\",fontsize=20)\n",
    "plt.show()"
   ]
  },
  {
   "cell_type": "code",
   "execution_count": 23,
   "metadata": {},
   "outputs": [],
   "source": [
    "df_metadata.to_csv(\"df_metadata.csv\")\n",
    "# df_metadata = pd.read_csv(\"df_metadata.csv\")"
   ]
  },
  {
   "cell_type": "markdown",
   "metadata": {},
   "source": [
    "### Data Preprocessing"
   ]
  },
  {
   "cell_type": "code",
   "execution_count": 24,
   "metadata": {},
   "outputs": [],
   "source": [
    "df_metadata_sample = df_metadata.sample(frac=0.10)"
   ]
  },
  {
   "cell_type": "code",
   "execution_count": 25,
   "metadata": {},
   "outputs": [
    {
     "data": {
      "text/html": [
       "<div>\n",
       "<style scoped>\n",
       "    .dataframe tbody tr th:only-of-type {\n",
       "        vertical-align: middle;\n",
       "    }\n",
       "\n",
       "    .dataframe tbody tr th {\n",
       "        vertical-align: top;\n",
       "    }\n",
       "\n",
       "    .dataframe thead th {\n",
       "        text-align: right;\n",
       "    }\n",
       "</style>\n",
       "<table border=\"1\" class=\"dataframe\">\n",
       "  <thead>\n",
       "    <tr style=\"text-align: right;\">\n",
       "      <th></th>\n",
       "      <th>Count of Nulls</th>\n",
       "    </tr>\n",
       "  </thead>\n",
       "  <tbody>\n",
       "    <tr>\n",
       "      <th>asin</th>\n",
       "      <td>0</td>\n",
       "    </tr>\n",
       "    <tr>\n",
       "      <th>description</th>\n",
       "      <td>6366</td>\n",
       "    </tr>\n",
       "    <tr>\n",
       "      <th>title</th>\n",
       "      <td>1109</td>\n",
       "    </tr>\n",
       "    <tr>\n",
       "      <th>category</th>\n",
       "      <td>0</td>\n",
       "    </tr>\n",
       "  </tbody>\n",
       "</table>\n",
       "</div>"
      ],
      "text/plain": [
       "             Count of Nulls\n",
       "asin                      0\n",
       "description            6366\n",
       "title                  1109\n",
       "category                  0"
      ]
     },
     "execution_count": 25,
     "metadata": {},
     "output_type": "execute_result"
    }
   ],
   "source": [
    "pd.DataFrame(df_metadata_sample.isna().sum(),columns = ['Count of Nulls'])"
   ]
  },
  {
   "cell_type": "code",
   "execution_count": 26,
   "metadata": {},
   "outputs": [
    {
     "data": {
      "text/html": [
       "<div>\n",
       "<style scoped>\n",
       "    .dataframe tbody tr th:only-of-type {\n",
       "        vertical-align: middle;\n",
       "    }\n",
       "\n",
       "    .dataframe tbody tr th {\n",
       "        vertical-align: top;\n",
       "    }\n",
       "\n",
       "    .dataframe thead th {\n",
       "        text-align: right;\n",
       "    }\n",
       "</style>\n",
       "<table border=\"1\" class=\"dataframe\">\n",
       "  <thead>\n",
       "    <tr style=\"text-align: right;\">\n",
       "      <th></th>\n",
       "      <th>Count of Nulls</th>\n",
       "    </tr>\n",
       "  </thead>\n",
       "  <tbody>\n",
       "    <tr>\n",
       "      <th>asin</th>\n",
       "      <td>0</td>\n",
       "    </tr>\n",
       "    <tr>\n",
       "      <th>description</th>\n",
       "      <td>0</td>\n",
       "    </tr>\n",
       "    <tr>\n",
       "      <th>title</th>\n",
       "      <td>0</td>\n",
       "    </tr>\n",
       "    <tr>\n",
       "      <th>category</th>\n",
       "      <td>0</td>\n",
       "    </tr>\n",
       "  </tbody>\n",
       "</table>\n",
       "</div>"
      ],
      "text/plain": [
       "             Count of Nulls\n",
       "asin                      0\n",
       "description               0\n",
       "title                     0\n",
       "category                  0"
      ]
     },
     "execution_count": 26,
     "metadata": {},
     "output_type": "execute_result"
    }
   ],
   "source": [
    "df_metadata_sample.dropna(inplace=True)\n",
    "pd.DataFrame(df_metadata_sample.isna().sum(),columns = ['Count of Nulls'])"
   ]
  },
  {
   "cell_type": "code",
   "execution_count": 28,
   "metadata": {},
   "outputs": [
    {
     "name": "stdout",
     "output_type": "stream",
     "text": [
      "<class 'pandas.core.frame.DataFrame'>\n",
      "Int64Index: 62344 entries, 30726 to 257163\n",
      "Data columns (total 4 columns):\n",
      "asin           62344 non-null object\n",
      "description    62344 non-null object\n",
      "title          62344 non-null object\n",
      "category       62344 non-null object\n",
      "dtypes: object(4)\n",
      "memory usage: 2.4+ MB\n"
     ]
    }
   ],
   "source": [
    "df_metadata_sample.info()"
   ]
  },
  {
   "cell_type": "code",
   "execution_count": 29,
   "metadata": {},
   "outputs": [],
   "source": [
    "### Object to String Conversion\n",
    "df_metadata_sample['description'] = df_metadata_sample['description'].astype('str')  \n",
    "df_metadata_sample['category'] = df_metadata_sample['category'].astype('str')    \n",
    "df_metadata_sample['title'] = df_metadata_sample['title'].astype('str') \n",
    "\n",
    "df = df_metadata_sample.copy() ### Backup"
   ]
  },
  {
   "cell_type": "markdown",
   "metadata": {},
   "source": [
    "### Product Description Cleaning"
   ]
  },
  {
   "cell_type": "markdown",
   "metadata": {},
   "source": [
    "Word Embeddings will be created using the **Product Descriptions** and hence needs to be cleaned. The cleaning process involves<br>\n",
    "- Stopwords removal\n",
    "- Punctuations removal\n",
    "- Lemmatization - Finding the root words for each word. This will reduce the overall vocabulary size.\n"
   ]
  },
  {
   "cell_type": "code",
   "execution_count": 34,
   "metadata": {},
   "outputs": [],
   "source": [
    "def cleaning(description):\n",
    "    \n",
    "    ###Stopword Removal\n",
    "    stop = stopwords.words('english')\n",
    "    description = description.split()\n",
    "    cleaned = \" \".join([item for item in description if item.lower() not in stop])\n",
    "    cleaned = cleaned.replace(\"'\", \"\").lower()\n",
    "    cleaned=re.sub(r'[^\\w\\s]',' ',cleaned)   ###Punctuation removal\n",
    "    \n",
    "    ###Lemmatization\n",
    "    nlp_lemma = nlp(cleaned)\n",
    "    cleaned = \" \".join([item.lemma_ for item in nlp_lemma])\n",
    "    \n",
    "    return cleaned"
   ]
  },
  {
   "cell_type": "markdown",
   "metadata": {},
   "source": [
    "### Extracting nouns and adjectives from the Product Descriptios"
   ]
  },
  {
   "cell_type": "markdown",
   "metadata": {},
   "source": [
    "In my opinion, nouns and adjectives of the descriptions are going to be the major part of speeches that will help in understanding the product category.\n",
    "\n",
    "Spacy library's **POS tagging** is used here to perform this action"
   ]
  },
  {
   "cell_type": "code",
   "execution_count": 35,
   "metadata": {},
   "outputs": [],
   "source": [
    "def clean_pos(description):\n",
    "    plot = nlp(description)\n",
    "    tags = [i for i in plot if i.tag_ == 'NN' or i.tag_ == 'NNS' or i.tag_ == 'JJ' or i.tag_ == 'JJR' or i.tag_ == 'JJS']\n",
    "    return tags"
   ]
  },
  {
   "cell_type": "markdown",
   "metadata": {},
   "source": [
    "### Applying the above functions on the data"
   ]
  },
  {
   "cell_type": "code",
   "execution_count": 38,
   "metadata": {},
   "outputs": [
    {
     "data": {
      "text/html": [
       "<div>\n",
       "<style scoped>\n",
       "    .dataframe tbody tr th:only-of-type {\n",
       "        vertical-align: middle;\n",
       "    }\n",
       "\n",
       "    .dataframe tbody tr th {\n",
       "        vertical-align: top;\n",
       "    }\n",
       "\n",
       "    .dataframe thead th {\n",
       "        text-align: right;\n",
       "    }\n",
       "</style>\n",
       "<table border=\"1\" class=\"dataframe\">\n",
       "  <thead>\n",
       "    <tr style=\"text-align: right;\">\n",
       "      <th></th>\n",
       "      <th>asin</th>\n",
       "      <th>description</th>\n",
       "      <th>title</th>\n",
       "      <th>category</th>\n",
       "      <th>description_cleaned</th>\n",
       "    </tr>\n",
       "  </thead>\n",
       "  <tbody>\n",
       "    <tr>\n",
       "      <th>30726</th>\n",
       "      <td>B0041F2CDI</td>\n",
       "      <td>Valcobaby Glo Bugz safety lights provide a sim...</td>\n",
       "      <td>Valco Baby Glo Bugz Flashing Safety Lights</td>\n",
       "      <td>baby</td>\n",
       "      <td>valcobaby glo bugz safety light provide simple...</td>\n",
       "    </tr>\n",
       "    <tr>\n",
       "      <th>18918</th>\n",
       "      <td>B000EEJ9WC</td>\n",
       "      <td>Dunlop 4461 Glow Standard Pick Cabinet - 216 P...</td>\n",
       "      <td>Dunlop 4461 Glow Standard Pick Cabinet - 216 P...</td>\n",
       "      <td>musical</td>\n",
       "      <td>dunlop 4461 glow standard pick cabinet    216 ...</td>\n",
       "    </tr>\n",
       "    <tr>\n",
       "      <th>96510</th>\n",
       "      <td>B00CJ0MZ0W</td>\n",
       "      <td>Features:*Canopy for 13 Feet 8-rib Market Umbr...</td>\n",
       "      <td>13 ft 8 Rib Patio Replacement Outdoor Umbrella...</td>\n",
       "      <td>patio_lawn</td>\n",
       "      <td>feature   canopy 13 foot 8 rib market umbrella...</td>\n",
       "    </tr>\n",
       "    <tr>\n",
       "      <th>68282</th>\n",
       "      <td>B00375LB30</td>\n",
       "      <td>Colorful Non-Pareils make decorating your cake...</td>\n",
       "      <td>CK Products 16 Ounce Bag of Non Pareil, Mixed</td>\n",
       "      <td>grocery</td>\n",
       "      <td>colorful non pareil make decorate cake   cupca...</td>\n",
       "    </tr>\n",
       "    <tr>\n",
       "      <th>61277</th>\n",
       "      <td>B002IIPRIM</td>\n",
       "      <td>Pollastrini Di Anzio Sardines in olive oil wit...</td>\n",
       "      <td>Pollastrini Di Anzio Italian Sardines in Olive...</td>\n",
       "      <td>grocery</td>\n",
       "      <td>pollastrini di anzio sardine olive oil chili p...</td>\n",
       "    </tr>\n",
       "  </tbody>\n",
       "</table>\n",
       "</div>"
      ],
      "text/plain": [
       "             asin                                        description  \\\n",
       "30726  B0041F2CDI  Valcobaby Glo Bugz safety lights provide a sim...   \n",
       "18918  B000EEJ9WC  Dunlop 4461 Glow Standard Pick Cabinet - 216 P...   \n",
       "96510  B00CJ0MZ0W  Features:*Canopy for 13 Feet 8-rib Market Umbr...   \n",
       "68282  B00375LB30  Colorful Non-Pareils make decorating your cake...   \n",
       "61277  B002IIPRIM  Pollastrini Di Anzio Sardines in olive oil wit...   \n",
       "\n",
       "                                                   title    category  \\\n",
       "30726         Valco Baby Glo Bugz Flashing Safety Lights        baby   \n",
       "18918  Dunlop 4461 Glow Standard Pick Cabinet - 216 P...     musical   \n",
       "96510  13 ft 8 Rib Patio Replacement Outdoor Umbrella...  patio_lawn   \n",
       "68282      CK Products 16 Ounce Bag of Non Pareil, Mixed     grocery   \n",
       "61277  Pollastrini Di Anzio Italian Sardines in Olive...     grocery   \n",
       "\n",
       "                                     description_cleaned  \n",
       "30726  valcobaby glo bugz safety light provide simple...  \n",
       "18918  dunlop 4461 glow standard pick cabinet    216 ...  \n",
       "96510  feature   canopy 13 foot 8 rib market umbrella...  \n",
       "68282  colorful non pareil make decorate cake   cupca...  \n",
       "61277  pollastrini di anzio sardine olive oil chili p...  "
      ]
     },
     "execution_count": 38,
     "metadata": {},
     "output_type": "execute_result"
    }
   ],
   "source": [
    "df['description_cleaned']=df['description'].apply(cleaning)\n",
    "df.head()"
   ]
  },
  {
   "cell_type": "code",
   "execution_count": 41,
   "metadata": {},
   "outputs": [
    {
     "data": {
      "text/html": [
       "<div>\n",
       "<style scoped>\n",
       "    .dataframe tbody tr th:only-of-type {\n",
       "        vertical-align: middle;\n",
       "    }\n",
       "\n",
       "    .dataframe tbody tr th {\n",
       "        vertical-align: top;\n",
       "    }\n",
       "\n",
       "    .dataframe thead th {\n",
       "        text-align: right;\n",
       "    }\n",
       "</style>\n",
       "<table border=\"1\" class=\"dataframe\">\n",
       "  <thead>\n",
       "    <tr style=\"text-align: right;\">\n",
       "      <th></th>\n",
       "      <th>asin</th>\n",
       "      <th>description</th>\n",
       "      <th>title</th>\n",
       "      <th>category</th>\n",
       "      <th>description_cleaned</th>\n",
       "      <th>description_tags</th>\n",
       "    </tr>\n",
       "  </thead>\n",
       "  <tbody>\n",
       "    <tr>\n",
       "      <th>30726</th>\n",
       "      <td>B0041F2CDI</td>\n",
       "      <td>Valcobaby Glo Bugz safety lights provide a sim...</td>\n",
       "      <td>Valco Baby Glo Bugz Flashing Safety Lights</td>\n",
       "      <td>baby</td>\n",
       "      <td>valcobaby glo bugz safety light provide simple...</td>\n",
       "      <td>[safety, light, simple, solution, visible, nig...</td>\n",
       "    </tr>\n",
       "    <tr>\n",
       "      <th>18918</th>\n",
       "      <td>B000EEJ9WC</td>\n",
       "      <td>Dunlop 4461 Glow Standard Pick Cabinet - 216 P...</td>\n",
       "      <td>Dunlop 4461 Glow Standard Pick Cabinet - 216 P...</td>\n",
       "      <td>musical</td>\n",
       "      <td>dunlop 4461 glow standard pick cabinet    216 ...</td>\n",
       "      <td>[standard, pick, cabinet, pick]</td>\n",
       "    </tr>\n",
       "    <tr>\n",
       "      <th>96510</th>\n",
       "      <td>B00CJ0MZ0W</td>\n",
       "      <td>Features:*Canopy for 13 Feet 8-rib Market Umbr...</td>\n",
       "      <td>13 ft 8 Rib Patio Replacement Outdoor Umbrella...</td>\n",
       "      <td>patio_lawn</td>\n",
       "      <td>feature   canopy 13 foot 8 rib market umbrella...</td>\n",
       "      <td>[feature, canopy, foot, rib, market, umbrella,...</td>\n",
       "    </tr>\n",
       "    <tr>\n",
       "      <th>68282</th>\n",
       "      <td>B00375LB30</td>\n",
       "      <td>Colorful Non-Pareils make decorating your cake...</td>\n",
       "      <td>CK Products 16 Ounce Bag of Non Pareil, Mixed</td>\n",
       "      <td>grocery</td>\n",
       "      <td>colorful non pareil make decorate cake   cupca...</td>\n",
       "      <td>[colorful, cake, cupcake, cookie, fun, multipl...</td>\n",
       "    </tr>\n",
       "    <tr>\n",
       "      <th>61277</th>\n",
       "      <td>B002IIPRIM</td>\n",
       "      <td>Pollastrini Di Anzio Sardines in olive oil wit...</td>\n",
       "      <td>Pollastrini Di Anzio Italian Sardines in Olive...</td>\n",
       "      <td>grocery</td>\n",
       "      <td>pollastrini di anzio sardine olive oil chili p...</td>\n",
       "      <td>[town, sardine, wild, catch, use, olive, oil]</td>\n",
       "    </tr>\n",
       "  </tbody>\n",
       "</table>\n",
       "</div>"
      ],
      "text/plain": [
       "             asin                                        description  \\\n",
       "30726  B0041F2CDI  Valcobaby Glo Bugz safety lights provide a sim...   \n",
       "18918  B000EEJ9WC  Dunlop 4461 Glow Standard Pick Cabinet - 216 P...   \n",
       "96510  B00CJ0MZ0W  Features:*Canopy for 13 Feet 8-rib Market Umbr...   \n",
       "68282  B00375LB30  Colorful Non-Pareils make decorating your cake...   \n",
       "61277  B002IIPRIM  Pollastrini Di Anzio Sardines in olive oil wit...   \n",
       "\n",
       "                                                   title    category  \\\n",
       "30726         Valco Baby Glo Bugz Flashing Safety Lights        baby   \n",
       "18918  Dunlop 4461 Glow Standard Pick Cabinet - 216 P...     musical   \n",
       "96510  13 ft 8 Rib Patio Replacement Outdoor Umbrella...  patio_lawn   \n",
       "68282      CK Products 16 Ounce Bag of Non Pareil, Mixed     grocery   \n",
       "61277  Pollastrini Di Anzio Italian Sardines in Olive...     grocery   \n",
       "\n",
       "                                     description_cleaned  \\\n",
       "30726  valcobaby glo bugz safety light provide simple...   \n",
       "18918  dunlop 4461 glow standard pick cabinet    216 ...   \n",
       "96510  feature   canopy 13 foot 8 rib market umbrella...   \n",
       "68282  colorful non pareil make decorate cake   cupca...   \n",
       "61277  pollastrini di anzio sardine olive oil chili p...   \n",
       "\n",
       "                                        description_tags  \n",
       "30726  [safety, light, simple, solution, visible, nig...  \n",
       "18918                    [standard, pick, cabinet, pick]  \n",
       "96510  [feature, canopy, foot, rib, market, umbrella,...  \n",
       "68282  [colorful, cake, cupcake, cookie, fun, multipl...  \n",
       "61277      [town, sardine, wild, catch, use, olive, oil]  "
      ]
     },
     "execution_count": 41,
     "metadata": {},
     "output_type": "execute_result"
    }
   ],
   "source": [
    "df['description_tags']=df['description_cleaned'].apply(clean_pos)\n",
    "df.head()"
   ]
  },
  {
   "cell_type": "code",
   "execution_count": 42,
   "metadata": {},
   "outputs": [],
   "source": [
    "df.to_csv(\"df_cleaned.csv\")"
   ]
  },
  {
   "cell_type": "markdown",
   "metadata": {},
   "source": [
    "### Calculate the extracted POS tags length for each observation"
   ]
  },
  {
   "cell_type": "code",
   "execution_count": 43,
   "metadata": {},
   "outputs": [],
   "source": [
    "df['description_tags_length']  = df['description_tags'].apply(lambda x: len(x))"
   ]
  },
  {
   "cell_type": "markdown",
   "metadata": {},
   "source": [
    "### Outlier Detection"
   ]
  },
  {
   "cell_type": "code",
   "execution_count": 44,
   "metadata": {},
   "outputs": [
    {
     "data": {
      "text/html": [
       "<div>\n",
       "<style scoped>\n",
       "    .dataframe tbody tr th:only-of-type {\n",
       "        vertical-align: middle;\n",
       "    }\n",
       "\n",
       "    .dataframe tbody tr th {\n",
       "        vertical-align: top;\n",
       "    }\n",
       "\n",
       "    .dataframe thead th {\n",
       "        text-align: right;\n",
       "    }\n",
       "</style>\n",
       "<table border=\"1\" class=\"dataframe\">\n",
       "  <thead>\n",
       "    <tr style=\"text-align: right;\">\n",
       "      <th></th>\n",
       "      <th>description_tags_length</th>\n",
       "    </tr>\n",
       "  </thead>\n",
       "  <tbody>\n",
       "    <tr>\n",
       "      <th>count</th>\n",
       "      <td>62344.000000</td>\n",
       "    </tr>\n",
       "    <tr>\n",
       "      <th>mean</th>\n",
       "      <td>30.180178</td>\n",
       "    </tr>\n",
       "    <tr>\n",
       "      <th>std</th>\n",
       "      <td>34.348661</td>\n",
       "    </tr>\n",
       "    <tr>\n",
       "      <th>min</th>\n",
       "      <td>0.000000</td>\n",
       "    </tr>\n",
       "    <tr>\n",
       "      <th>25%</th>\n",
       "      <td>9.000000</td>\n",
       "    </tr>\n",
       "    <tr>\n",
       "      <th>50%</th>\n",
       "      <td>21.000000</td>\n",
       "    </tr>\n",
       "    <tr>\n",
       "      <th>75%</th>\n",
       "      <td>40.000000</td>\n",
       "    </tr>\n",
       "    <tr>\n",
       "      <th>max</th>\n",
       "      <td>2033.000000</td>\n",
       "    </tr>\n",
       "  </tbody>\n",
       "</table>\n",
       "</div>"
      ],
      "text/plain": [
       "       description_tags_length\n",
       "count             62344.000000\n",
       "mean                 30.180178\n",
       "std                  34.348661\n",
       "min                   0.000000\n",
       "25%                   9.000000\n",
       "50%                  21.000000\n",
       "75%                  40.000000\n",
       "max                2033.000000"
      ]
     },
     "execution_count": 44,
     "metadata": {},
     "output_type": "execute_result"
    }
   ],
   "source": [
    "pd.DataFrame(df['description_tags_length'].describe())"
   ]
  },
  {
   "cell_type": "code",
   "execution_count": 45,
   "metadata": {},
   "outputs": [
    {
     "data": {
      "text/plain": [
       "86.5"
      ]
     },
     "execution_count": 45,
     "metadata": {},
     "output_type": "execute_result"
    }
   ],
   "source": [
    "outlier_threshold = df['description_tags_length'].quantile(0.75) + 1.5*(df['description_tags_length'].quantile(q=0.75) - df['description_tags_length'].quantile(q=0.25))\n",
    "outlier_threshold"
   ]
  },
  {
   "cell_type": "code",
   "execution_count": 46,
   "metadata": {},
   "outputs": [
    {
     "data": {
      "text/html": [
       "<div>\n",
       "<style scoped>\n",
       "    .dataframe tbody tr th:only-of-type {\n",
       "        vertical-align: middle;\n",
       "    }\n",
       "\n",
       "    .dataframe tbody tr th {\n",
       "        vertical-align: top;\n",
       "    }\n",
       "\n",
       "    .dataframe thead th {\n",
       "        text-align: right;\n",
       "    }\n",
       "</style>\n",
       "<table border=\"1\" class=\"dataframe\">\n",
       "  <thead>\n",
       "    <tr style=\"text-align: right;\">\n",
       "      <th></th>\n",
       "      <th>description_tags_length</th>\n",
       "    </tr>\n",
       "  </thead>\n",
       "  <tbody>\n",
       "    <tr>\n",
       "      <th>count</th>\n",
       "      <td>58654.000000</td>\n",
       "    </tr>\n",
       "    <tr>\n",
       "      <th>mean</th>\n",
       "      <td>24.334095</td>\n",
       "    </tr>\n",
       "    <tr>\n",
       "      <th>std</th>\n",
       "      <td>19.849889</td>\n",
       "    </tr>\n",
       "    <tr>\n",
       "      <th>min</th>\n",
       "      <td>0.000000</td>\n",
       "    </tr>\n",
       "    <tr>\n",
       "      <th>25%</th>\n",
       "      <td>9.000000</td>\n",
       "    </tr>\n",
       "    <tr>\n",
       "      <th>50%</th>\n",
       "      <td>20.000000</td>\n",
       "    </tr>\n",
       "    <tr>\n",
       "      <th>75%</th>\n",
       "      <td>35.000000</td>\n",
       "    </tr>\n",
       "    <tr>\n",
       "      <th>max</th>\n",
       "      <td>86.000000</td>\n",
       "    </tr>\n",
       "  </tbody>\n",
       "</table>\n",
       "</div>"
      ],
      "text/plain": [
       "       description_tags_length\n",
       "count             58654.000000\n",
       "mean                 24.334095\n",
       "std                  19.849889\n",
       "min                   0.000000\n",
       "25%                   9.000000\n",
       "50%                  20.000000\n",
       "75%                  35.000000\n",
       "max                  86.000000"
      ]
     },
     "execution_count": 46,
     "metadata": {},
     "output_type": "execute_result"
    }
   ],
   "source": [
    "df = df[df['description_tags_length'] < math.ceil(outlier_threshold)]\n",
    "pd.DataFrame(df['description_tags_length'].describe())"
   ]
  },
  {
   "cell_type": "markdown",
   "metadata": {},
   "source": [
    "### Tokenization and Sequence Generation"
   ]
  },
  {
   "cell_type": "markdown",
   "metadata": {},
   "source": [
    "- This process involves creating a **unique integer id** for each token or word in the plot tags (As Neural Networks accept only numerical inputs)\n",
    "- Both frequently and rarely occuring words are removed from the data for better training purposes as frequent words will not help much in discerning the genres and vice-versa for rare words. <br> \n",
    "- **Thresholds** have been set to remove these words from the tokenized dictionary (i.e) Words occuring less than 100 times and words occuring more than 1000 times throughout the data are removed."
   ]
  },
  {
   "cell_type": "code",
   "execution_count": 97,
   "metadata": {},
   "outputs": [],
   "source": [
    "token = Tokenizer()\n",
    "token.fit_on_texts(df['description_tags'].astype('str'))\n",
    "\n",
    "count_lower_thres = 100\n",
    "count_upper_thres = 1000\n",
    "rare_words = [w for w,c in token.word_counts.items() if c <= count_lower_thres]\n",
    "frequent_words = [w for w,c in token.word_counts.items() if c > count_upper_thres]\n",
    "remove_words = rare_words + frequent_words\n",
    "\n",
    "for w in remove_words:\n",
    "    num = token.word_index[w]\n",
    "    del token.word_index[w]\n",
    "    del token.word_docs[w]\n",
    "    del token.word_counts[w]\n",
    "    del token.index_word[num]\n",
    "    del token.index_docs[num]\n",
    "    \n",
    "df['description_tags_num_rep']= token.texts_to_sequences(df['description_tags'].astype('str'))"
   ]
  },
  {
   "cell_type": "code",
   "execution_count": 98,
   "metadata": {},
   "outputs": [
    {
     "data": {
      "text/plain": [
       "1974"
      ]
     },
     "execution_count": 98,
     "metadata": {},
     "output_type": "execute_result"
    }
   ],
   "source": [
    "len(token.word_counts.items())"
   ]
  },
  {
   "cell_type": "code",
   "execution_count": 99,
   "metadata": {},
   "outputs": [
    {
     "data": {
      "text/html": [
       "<div>\n",
       "<style scoped>\n",
       "    .dataframe tbody tr th:only-of-type {\n",
       "        vertical-align: middle;\n",
       "    }\n",
       "\n",
       "    .dataframe tbody tr th {\n",
       "        vertical-align: top;\n",
       "    }\n",
       "\n",
       "    .dataframe thead th {\n",
       "        text-align: right;\n",
       "    }\n",
       "</style>\n",
       "<table border=\"1\" class=\"dataframe\">\n",
       "  <thead>\n",
       "    <tr style=\"text-align: right;\">\n",
       "      <th></th>\n",
       "      <th>num_rep_length</th>\n",
       "    </tr>\n",
       "  </thead>\n",
       "  <tbody>\n",
       "    <tr>\n",
       "      <th>count</th>\n",
       "      <td>54189.000000</td>\n",
       "    </tr>\n",
       "    <tr>\n",
       "      <th>mean</th>\n",
       "      <td>10.930226</td>\n",
       "    </tr>\n",
       "    <tr>\n",
       "      <th>std</th>\n",
       "      <td>8.849514</td>\n",
       "    </tr>\n",
       "    <tr>\n",
       "      <th>min</th>\n",
       "      <td>0.000000</td>\n",
       "    </tr>\n",
       "    <tr>\n",
       "      <th>25%</th>\n",
       "      <td>4.000000</td>\n",
       "    </tr>\n",
       "    <tr>\n",
       "      <th>50%</th>\n",
       "      <td>9.000000</td>\n",
       "    </tr>\n",
       "    <tr>\n",
       "      <th>75%</th>\n",
       "      <td>16.000000</td>\n",
       "    </tr>\n",
       "    <tr>\n",
       "      <th>max</th>\n",
       "      <td>57.000000</td>\n",
       "    </tr>\n",
       "  </tbody>\n",
       "</table>\n",
       "</div>"
      ],
      "text/plain": [
       "       num_rep_length\n",
       "count    54189.000000\n",
       "mean        10.930226\n",
       "std          8.849514\n",
       "min          0.000000\n",
       "25%          4.000000\n",
       "50%          9.000000\n",
       "75%         16.000000\n",
       "max         57.000000"
      ]
     },
     "execution_count": 99,
     "metadata": {},
     "output_type": "execute_result"
    }
   ],
   "source": [
    "df['num_rep_length']  = df['description_tags_num_rep'].apply(lambda x: len(x))\n",
    "pd.DataFrame(df['num_rep_length'].describe())"
   ]
  },
  {
   "cell_type": "code",
   "execution_count": 100,
   "metadata": {},
   "outputs": [],
   "source": [
    "df = df[df['num_rep_length'] != 0]"
   ]
  },
  {
   "cell_type": "markdown",
   "metadata": {},
   "source": [
    "### Target Variable Encoding"
   ]
  },
  {
   "cell_type": "code",
   "execution_count": 102,
   "metadata": {},
   "outputs": [
    {
     "data": {
      "text/plain": [
       "array(['baby', 'beauty', 'grocery', 'musical', 'patio_lawn'], dtype='<U10')"
      ]
     },
     "execution_count": 102,
     "metadata": {},
     "output_type": "execute_result"
    }
   ],
   "source": [
    "from sklearn import preprocessing\n",
    "lb = preprocessing.LabelBinarizer()\n",
    "y = lb.fit_transform(df['category'])\n",
    "lb.classes_"
   ]
  },
  {
   "cell_type": "markdown",
   "metadata": {},
   "source": [
    "### Padding and Data Partitioning"
   ]
  },
  {
   "cell_type": "code",
   "execution_count": 103,
   "metadata": {},
   "outputs": [],
   "source": [
    "x = pad_sequences(df['description_tags_num_rep'], maxlen=57, padding='post')\n",
    "\n",
    "X_train, X_test, y_train, y_test = train_test_split(x, y, test_size=0.3,random_state=1)\n"
   ]
  },
  {
   "cell_type": "code",
   "execution_count": 105,
   "metadata": {},
   "outputs": [
    {
     "data": {
      "text/html": [
       "<div>\n",
       "<style scoped>\n",
       "    .dataframe tbody tr th:only-of-type {\n",
       "        vertical-align: middle;\n",
       "    }\n",
       "\n",
       "    .dataframe tbody tr th {\n",
       "        vertical-align: top;\n",
       "    }\n",
       "\n",
       "    .dataframe thead th {\n",
       "        text-align: right;\n",
       "    }\n",
       "</style>\n",
       "<table border=\"1\" class=\"dataframe\">\n",
       "  <thead>\n",
       "    <tr style=\"text-align: right;\">\n",
       "      <th></th>\n",
       "      <th>0</th>\n",
       "      <th>1</th>\n",
       "      <th>2</th>\n",
       "      <th>3</th>\n",
       "      <th>4</th>\n",
       "      <th>5</th>\n",
       "      <th>6</th>\n",
       "      <th>7</th>\n",
       "      <th>8</th>\n",
       "      <th>9</th>\n",
       "      <th>...</th>\n",
       "      <th>47</th>\n",
       "      <th>48</th>\n",
       "      <th>49</th>\n",
       "      <th>50</th>\n",
       "      <th>51</th>\n",
       "      <th>52</th>\n",
       "      <th>53</th>\n",
       "      <th>54</th>\n",
       "      <th>55</th>\n",
       "      <th>56</th>\n",
       "    </tr>\n",
       "  </thead>\n",
       "  <tbody>\n",
       "    <tr>\n",
       "      <th>0</th>\n",
       "      <td>387</td>\n",
       "      <td>340</td>\n",
       "      <td>1200</td>\n",
       "      <td>303</td>\n",
       "      <td>1021</td>\n",
       "      <td>454</td>\n",
       "      <td>422</td>\n",
       "      <td>760</td>\n",
       "      <td>1470</td>\n",
       "      <td>1650</td>\n",
       "      <td>...</td>\n",
       "      <td>0</td>\n",
       "      <td>0</td>\n",
       "      <td>0</td>\n",
       "      <td>0</td>\n",
       "      <td>0</td>\n",
       "      <td>0</td>\n",
       "      <td>0</td>\n",
       "      <td>0</td>\n",
       "      <td>0</td>\n",
       "      <td>0</td>\n",
       "    </tr>\n",
       "    <tr>\n",
       "      <th>1</th>\n",
       "      <td>658</td>\n",
       "      <td>1721</td>\n",
       "      <td>658</td>\n",
       "      <td>0</td>\n",
       "      <td>0</td>\n",
       "      <td>0</td>\n",
       "      <td>0</td>\n",
       "      <td>0</td>\n",
       "      <td>0</td>\n",
       "      <td>0</td>\n",
       "      <td>...</td>\n",
       "      <td>0</td>\n",
       "      <td>0</td>\n",
       "      <td>0</td>\n",
       "      <td>0</td>\n",
       "      <td>0</td>\n",
       "      <td>0</td>\n",
       "      <td>0</td>\n",
       "      <td>0</td>\n",
       "      <td>0</td>\n",
       "      <td>0</td>\n",
       "    </tr>\n",
       "    <tr>\n",
       "      <th>2</th>\n",
       "      <td>921</td>\n",
       "      <td>359</td>\n",
       "      <td>805</td>\n",
       "      <td>369</td>\n",
       "      <td>291</td>\n",
       "      <td>1561</td>\n",
       "      <td>925</td>\n",
       "      <td>509</td>\n",
       "      <td>395</td>\n",
       "      <td>758</td>\n",
       "      <td>...</td>\n",
       "      <td>0</td>\n",
       "      <td>0</td>\n",
       "      <td>0</td>\n",
       "      <td>0</td>\n",
       "      <td>0</td>\n",
       "      <td>0</td>\n",
       "      <td>0</td>\n",
       "      <td>0</td>\n",
       "      <td>0</td>\n",
       "      <td>0</td>\n",
       "    </tr>\n",
       "    <tr>\n",
       "      <th>3</th>\n",
       "      <td>640</td>\n",
       "      <td>535</td>\n",
       "      <td>1873</td>\n",
       "      <td>374</td>\n",
       "      <td>788</td>\n",
       "      <td>515</td>\n",
       "      <td>915</td>\n",
       "      <td>1325</td>\n",
       "      <td>1136</td>\n",
       "      <td>0</td>\n",
       "      <td>...</td>\n",
       "      <td>0</td>\n",
       "      <td>0</td>\n",
       "      <td>0</td>\n",
       "      <td>0</td>\n",
       "      <td>0</td>\n",
       "      <td>0</td>\n",
       "      <td>0</td>\n",
       "      <td>0</td>\n",
       "      <td>0</td>\n",
       "      <td>0</td>\n",
       "    </tr>\n",
       "    <tr>\n",
       "      <th>4</th>\n",
       "      <td>2101</td>\n",
       "      <td>540</td>\n",
       "      <td>1252</td>\n",
       "      <td>296</td>\n",
       "      <td>0</td>\n",
       "      <td>0</td>\n",
       "      <td>0</td>\n",
       "      <td>0</td>\n",
       "      <td>0</td>\n",
       "      <td>0</td>\n",
       "      <td>...</td>\n",
       "      <td>0</td>\n",
       "      <td>0</td>\n",
       "      <td>0</td>\n",
       "      <td>0</td>\n",
       "      <td>0</td>\n",
       "      <td>0</td>\n",
       "      <td>0</td>\n",
       "      <td>0</td>\n",
       "      <td>0</td>\n",
       "      <td>0</td>\n",
       "    </tr>\n",
       "  </tbody>\n",
       "</table>\n",
       "<p>5 rows × 57 columns</p>\n",
       "</div>"
      ],
      "text/plain": [
       "     0     1     2    3     4     5    6     7     8     9  ...  47  48  49  \\\n",
       "0   387   340  1200  303  1021   454  422   760  1470  1650 ...   0   0   0   \n",
       "1   658  1721   658    0     0     0    0     0     0     0 ...   0   0   0   \n",
       "2   921   359   805  369   291  1561  925   509   395   758 ...   0   0   0   \n",
       "3   640   535  1873  374   788   515  915  1325  1136     0 ...   0   0   0   \n",
       "4  2101   540  1252  296     0     0    0     0     0     0 ...   0   0   0   \n",
       "\n",
       "   50  51  52  53  54  55  56  \n",
       "0   0   0   0   0   0   0   0  \n",
       "1   0   0   0   0   0   0   0  \n",
       "2   0   0   0   0   0   0   0  \n",
       "3   0   0   0   0   0   0   0  \n",
       "4   0   0   0   0   0   0   0  \n",
       "\n",
       "[5 rows x 57 columns]"
      ]
     },
     "execution_count": 105,
     "metadata": {},
     "output_type": "execute_result"
    }
   ],
   "source": [
    "df_padded = pd.DataFrame(pad_sequences(df['description_tags_num_rep'], maxlen=57, padding='post'))\n",
    "df_padded.head()"
   ]
  },
  {
   "cell_type": "markdown",
   "metadata": {},
   "source": [
    "### Model Implementation - Word Embedding"
   ]
  },
  {
   "cell_type": "markdown",
   "metadata": {},
   "source": [
    "Embedding neural network has an embedding layer which requires parameter like <br>\n",
    "\n",
    "- Maximum interger index of the vocabulary (tokenized dictionary) <br>\n",
    "- Number of dimensions for each word representation "
   ]
  },
  {
   "cell_type": "markdown",
   "metadata": {},
   "source": [
    "Each word in the vocabulary is represented by specified n-dimensional dense vectors also known as weights in n-dimensional space (These weights are initially some random real values). The embedding layer maps the vocabulary index input to retrieve its corresponding weights vector whenever that word is sent as an input to the model. <br>*For example, in a five-dimensional space, word \"cocoa\" may have it's weight vector as [0.5, 0.22, 0.19, 0, 0.8]* <br><br>\n",
    "These weight vectors are trained against product categories, and during the training the model tries to update the weights in the embedding space in such a way that the weight vectors with the same genre are placed close to each other in that embedding space.\n",
    "    \n",
    "**The goal of the model is to train the weights for each word with product categories as its target variable** and the resultant weights that we get after the training process are called embedding weights or embeddings."
   ]
  },
  {
   "cell_type": "code",
   "execution_count": 106,
   "metadata": {},
   "outputs": [
    {
     "name": "stdout",
     "output_type": "stream",
     "text": [
      "WARNING:tensorflow:Large dropout rate: 0.65 (>0.5). In TensorFlow 2.x, dropout() uses dropout rate instead of keep_prob. Please ensure that this is intended.\n",
      "Model: \"sequential_2\"\n",
      "_________________________________________________________________\n",
      "Layer (type)                 Output Shape              Param #   \n",
      "=================================================================\n",
      "embedding_2 (Embedding)      (None, 57, 10)            22500     \n",
      "_________________________________________________________________\n",
      "flatten_2 (Flatten)          (None, 570)               0         \n",
      "_________________________________________________________________\n",
      "dropout_2 (Dropout)          (None, 570)               0         \n",
      "_________________________________________________________________\n",
      "dense_3 (Dense)              (None, 20)                11420     \n",
      "_________________________________________________________________\n",
      "dense_4 (Dense)              (None, 5)                 105       \n",
      "=================================================================\n",
      "Total params: 34,025\n",
      "Trainable params: 34,025\n",
      "Non-trainable params: 0\n",
      "_________________________________________________________________\n",
      "None\n"
     ]
    }
   ],
   "source": [
    "model = Sequential()\n",
    "model.add(Embedding(max(token.index_word)+1, 10, input_length=57))    ### Vocab size + 1\n",
    "model.add(Flatten())\n",
    "model.add(Dropout(0.65))                 ### To avoid overfitting\n",
    "model.add(Dense(20, activation='relu'))  ### Having a dense layer is optional\n",
    "model.add(Dense(5, activation='softmax'))\n",
    "\n",
    "model.compile(optimizer='adam', loss='binary_crossentropy')\n",
    "print(model.summary())  # summarize the model"
   ]
  },
  {
   "cell_type": "markdown",
   "metadata": {},
   "source": [
    "### Fitting the model"
   ]
  },
  {
   "cell_type": "code",
   "execution_count": 107,
   "metadata": {},
   "outputs": [
    {
     "data": {
      "text/plain": [
       "<keras.callbacks.callbacks.History at 0x2a197350b70>"
      ]
     },
     "execution_count": 107,
     "metadata": {},
     "output_type": "execute_result"
    }
   ],
   "source": [
    "model.fit(X_train, y_train, epochs=50, class_weight = \"balanced\", batch_size = 200, verbose=0)"
   ]
  },
  {
   "cell_type": "markdown",
   "metadata": {},
   "source": [
    "### Model Evaluation"
   ]
  },
  {
   "cell_type": "code",
   "execution_count": 421,
   "metadata": {},
   "outputs": [
    {
     "name": "stdout",
     "output_type": "stream",
     "text": [
      "              precision    recall  f1-score   support\n",
      "\n",
      "        baby       0.88      0.83      0.85      1736\n",
      "      beauty       0.89      0.92      0.91      6013\n",
      "     grocery       0.89      0.91      0.90      3991\n",
      "     musical       0.88      0.84      0.86      1620\n",
      "  patio_lawn       0.88      0.85      0.86      2677\n",
      "\n",
      "   micro avg       0.89      0.89      0.89     16037\n",
      "   macro avg       0.88      0.87      0.88     16037\n",
      "weighted avg       0.89      0.89      0.89     16037\n",
      " samples avg       0.89      0.89      0.89     16037\n",
      "\n"
     ]
    }
   ],
   "source": [
    "predictions=model.predict(X_test)\n",
    "class_predictions = np.zeros_like(predictions)\n",
    "class_predictions[np.arange(len(predictions)), predictions.argmax(1)] = 1\n",
    "print(classification_report(y_test, class_predictions, target_names = lb.classes_))"
   ]
  },
  {
   "cell_type": "markdown",
   "metadata": {},
   "source": [
    "### Extracting embeddings"
   ]
  },
  {
   "cell_type": "code",
   "execution_count": 111,
   "metadata": {},
   "outputs": [],
   "source": [
    "embedding_layer = model.get_layer(name=\"embedding_2\")\n",
    "weights = embedding_layer.get_weights()[0]"
   ]
  },
  {
   "cell_type": "markdown",
   "metadata": {},
   "source": [
    "### Find Similar Words"
   ]
  },
  {
   "cell_type": "code",
   "execution_count": 172,
   "metadata": {},
   "outputs": [],
   "source": [
    "def find_similar_words(word,n):\n",
    "    similar_matrix = np.dot(weights, weights[token.word_index[word]])\n",
    "    similar_scores = np.sort(similar_matrix)[::-1][:n]\n",
    "    index_similar = np.argsort(similar_matrix)[-n:][::-1]\n",
    "\n",
    "    similar_words = []\n",
    "    for i in index_similar:\n",
    "        similar_words.append(token.index_word[i])\n",
    "    return similar_words"
   ]
  },
  {
   "cell_type": "markdown",
   "metadata": {},
   "source": [
    "### Product Similarity Calculation"
   ]
  },
  {
   "cell_type": "code",
   "execution_count": 305,
   "metadata": {},
   "outputs": [],
   "source": [
    "def similar_products_calculation(tags, category, similar_items,input_description_category):\n",
    "    \n",
    "    category_match = 0\n",
    "    tags = set(tags)\n",
    "    if category == input_description_category:\n",
    "        category_match = 0.1  \n",
    "        \n",
    "    jaccard_score = len(set(similar_items).intersection(tags)) / len(set(similar_items).union(tags))    \n",
    "    return jaccard_score + category_match"
   ]
  },
  {
   "cell_type": "markdown",
   "metadata": {},
   "source": [
    "### Item Recommendation"
   ]
  },
  {
   "cell_type": "code",
   "execution_count": 306,
   "metadata": {},
   "outputs": [],
   "source": [
    "def recommendation(title):\n",
    "\n",
    "    input_description_tags = df[df['title'] == title]['description_tags_num_rep'].tolist()[0]\n",
    "    input_description_category = df[df['title'] == title]['category'].tolist()[0]\n",
    "    input_description = df[df['title'] == title]['description'].tolist()[0]\n",
    "    print(\"\\nProduct description of \" +title+ \" :\\n\")\n",
    "    print(input_description)\n",
    "    \n",
    "    word1 = token.index_word[input_description_tags[0]]    \n",
    "    print(\"\\nThe top 5 words similar to \" +word1+ \" are \" ,find_similar_words(word1,5))\n",
    "    \n",
    "    similar_items = []\n",
    "    for i in input_description_tags:\n",
    "        similar_items.extend(np.argsort(np.dot(weights, weights[i]))[-4:][::-1].tolist())\n",
    "\n",
    "    df_similar_items = pd.DataFrame()\n",
    "    df_similar_items['title'] = df['title']\n",
    "    df_similar_items['category'] = df['category']\n",
    "\n",
    "    df_similar_items['jaccard_score']=df.apply(lambda x: similar_products_calculation(x.description_tags_num_rep, x.category,similar_items,input_description_category),axis=1)\n",
    "    df_similar_items = df_similar_items.sort_values(by=\"jaccard_score\", ascending = False).head(10)\n",
    "    print(\"\\nRecommended Items\")\n",
    "    return df_similar_items['title'].tolist()"
   ]
  },
  {
   "cell_type": "markdown",
   "metadata": {},
   "source": [
    "### Word similarities with respect to product category"
   ]
  },
  {
   "cell_type": "code",
   "execution_count": 433,
   "metadata": {},
   "outputs": [
    {
     "data": {
      "text/plain": [
       "['brewer',\n",
       " 'calorie',\n",
       " 'carbohydrate',\n",
       " 'taffy',\n",
       " 'garlic',\n",
       " 'cashew',\n",
       " 'pasta',\n",
       " 'pretzel',\n",
       " 'toast',\n",
       " 'noodle']"
      ]
     },
     "execution_count": 433,
     "metadata": {},
     "output_type": "execute_result"
    }
   ],
   "source": [
    "# token.word_counts.items()\n",
    "find_similar_words(\"cocoa\",10)"
   ]
  },
  {
   "cell_type": "markdown",
   "metadata": {},
   "source": [
    "### Product Recommendation using content-based filtering"
   ]
  },
  {
   "cell_type": "code",
   "execution_count": 435,
   "metadata": {},
   "outputs": [
    {
     "name": "stdout",
     "output_type": "stream",
     "text": [
      "Enter the product title: Lawn Mower Blade, 21-5/8 In.\n",
      "\n",
      "Product description of Lawn Mower Blade, 21-5/8 In. :\n",
      "\n",
      "Lawn Mower Blade, Straight, For Use With Toro 22 In. recycler with steel deck, Application Toro/108-9764-03, Length 21-5/8 In., Size W 2-1/4 In. Thickness .134 Center Hole 7/16 In.\n",
      "\n",
      "The top 5 words similar to mower are  ['patio', 'mower', 'stake', 'lawn', 'hose']\n",
      "\n",
      "Recommended Items\n"
     ]
    },
    {
     "data": {
      "text/plain": [
       "['Lawn Mower Engine Control Cable for AYP 176556',\n",
       " 'Honda HRR216 VXA VYA Lawn Mower Service Repair Shop Manual',\n",
       " 'Claber 90764 Basic Drip Kit',\n",
       " 'Backyard Basics Lawn Mower / Snow Thrower Cover',\n",
       " 'Tusco Products HP01TC Hose Pot, Terra Cotta (Discontinued by Manufacturer)',\n",
       " 'Color Changing Sprinkler',\n",
       " 'Pyle PVCTBLCH46 Armor Shield Patio Table and Chair Set Cover, 70 by 23-Inch, Fits Round Table and 6 Standard Chairs',\n",
       " 'Replacement part For Toro Lawn mower # 114-1588 CHARGER-BATTERY, FUJIKON',\n",
       " 'Suncast 8-Inch Metal Garden Stakes, Silver (Pack of 4)',\n",
       " 'John Deere Original Lawn Tractor Deluxe Large Cover #LP93647']"
      ]
     },
     "execution_count": 435,
     "metadata": {},
     "output_type": "execute_result"
    }
   ],
   "source": [
    "input_title = input(\"Enter the product title: \")\n",
    "recommendation(input_title)"
   ]
  },
  {
   "cell_type": "markdown",
   "metadata": {},
   "source": [
    "# Collaborative Filtering"
   ]
  },
  {
   "cell_type": "markdown",
   "metadata": {},
   "source": [
    "**Dataset 2:** User Ratings/Reviews files for categories – Beauty, Grocery and Gourmet Food, Baby, Musical Instruments, Patio-Lawn and Garden were chosen. These files were appended and used for collaborative filtering"
   ]
  },
  {
   "cell_type": "code",
   "execution_count": 3,
   "metadata": {},
   "outputs": [],
   "source": [
    "df_baby = pd.read_json(\"Baby_5.json\",lines = True )\n",
    "df_beauty = pd.read_json(\"Beauty_5.json\",lines = True )\n",
    "df_grocery = pd.read_json(\"Grocery_and_Gourmet_Food_5.json\",lines = True )\n",
    "df_musical = pd.read_json(\"Musical_Instruments_5.json\",lines = True )\n",
    "df_patio_lawn = pd.read_json(\"Patio_Lawn_and_Garden_5.json\",lines = True )\n",
    "\n",
    "df_ratings = pd.concat([df_grocery,df_baby,df_beauty,df_musical,df_patio_lawn])\n",
    "df_ratings = df_ratings[[\"asin\",\"overall\",\"reviewerID\"]]\n",
    "df_ratings = df_ratings.sample(frac = 0.1)"
   ]
  },
  {
   "cell_type": "code",
   "execution_count": 4,
   "metadata": {},
   "outputs": [
    {
     "data": {
      "text/html": [
       "<div>\n",
       "<style scoped>\n",
       "    .dataframe tbody tr th:only-of-type {\n",
       "        vertical-align: middle;\n",
       "    }\n",
       "\n",
       "    .dataframe tbody tr th {\n",
       "        vertical-align: top;\n",
       "    }\n",
       "\n",
       "    .dataframe thead th {\n",
       "        text-align: right;\n",
       "    }\n",
       "</style>\n",
       "<table border=\"1\" class=\"dataframe\">\n",
       "  <thead>\n",
       "    <tr style=\"text-align: right;\">\n",
       "      <th></th>\n",
       "      <th>asin</th>\n",
       "      <th>overall</th>\n",
       "      <th>reviewerID</th>\n",
       "    </tr>\n",
       "  </thead>\n",
       "  <tbody>\n",
       "    <tr>\n",
       "      <th>128401</th>\n",
       "      <td>B005QPE0W8</td>\n",
       "      <td>4</td>\n",
       "      <td>A2NIVKEGUT4WEK</td>\n",
       "    </tr>\n",
       "    <tr>\n",
       "      <th>134292</th>\n",
       "      <td>B006SFUEF2</td>\n",
       "      <td>5</td>\n",
       "      <td>A3NH1SMW111SY2</td>\n",
       "    </tr>\n",
       "    <tr>\n",
       "      <th>11212</th>\n",
       "      <td>B00070QF20</td>\n",
       "      <td>1</td>\n",
       "      <td>A6T1RHMQ9NSE4</td>\n",
       "    </tr>\n",
       "    <tr>\n",
       "      <th>189705</th>\n",
       "      <td>B00GTC03OG</td>\n",
       "      <td>3</td>\n",
       "      <td>A34BZM6S9L7QI4</td>\n",
       "    </tr>\n",
       "    <tr>\n",
       "      <th>89416</th>\n",
       "      <td>B0037W6NZO</td>\n",
       "      <td>3</td>\n",
       "      <td>ASXKOIXZ4LPZ2</td>\n",
       "    </tr>\n",
       "  </tbody>\n",
       "</table>\n",
       "</div>"
      ],
      "text/plain": [
       "              asin  overall      reviewerID\n",
       "128401  B005QPE0W8        4  A2NIVKEGUT4WEK\n",
       "134292  B006SFUEF2        5  A3NH1SMW111SY2\n",
       "11212   B00070QF20        1   A6T1RHMQ9NSE4\n",
       "189705  B00GTC03OG        3  A34BZM6S9L7QI4\n",
       "89416   B0037W6NZO        3   ASXKOIXZ4LPZ2"
      ]
     },
     "execution_count": 4,
     "metadata": {},
     "output_type": "execute_result"
    }
   ],
   "source": [
    "df_ratings.head()"
   ]
  },
  {
   "cell_type": "markdown",
   "metadata": {},
   "source": [
    "### Removing the Users who rate the products rarely"
   ]
  },
  {
   "cell_type": "code",
   "execution_count": 5,
   "metadata": {},
   "outputs": [
    {
     "data": {
      "text/html": [
       "<div>\n",
       "<style scoped>\n",
       "    .dataframe tbody tr th:only-of-type {\n",
       "        vertical-align: middle;\n",
       "    }\n",
       "\n",
       "    .dataframe tbody tr th {\n",
       "        vertical-align: top;\n",
       "    }\n",
       "\n",
       "    .dataframe thead th {\n",
       "        text-align: right;\n",
       "    }\n",
       "</style>\n",
       "<table border=\"1\" class=\"dataframe\">\n",
       "  <thead>\n",
       "    <tr style=\"text-align: right;\">\n",
       "      <th></th>\n",
       "      <th>reviewerID</th>\n",
       "    </tr>\n",
       "  </thead>\n",
       "  <tbody>\n",
       "    <tr>\n",
       "      <th>A1KK3T8I5WY5MB</th>\n",
       "      <td>3</td>\n",
       "    </tr>\n",
       "    <tr>\n",
       "      <th>ANUUF3N6B9NTA</th>\n",
       "      <td>3</td>\n",
       "    </tr>\n",
       "    <tr>\n",
       "      <th>A3J30T6XOU0BWS</th>\n",
       "      <td>3</td>\n",
       "    </tr>\n",
       "    <tr>\n",
       "      <th>A16KNLKH7JYA1I</th>\n",
       "      <td>3</td>\n",
       "    </tr>\n",
       "    <tr>\n",
       "      <th>A1QD39VRMLDNY</th>\n",
       "      <td>3</td>\n",
       "    </tr>\n",
       "  </tbody>\n",
       "</table>\n",
       "</div>"
      ],
      "text/plain": [
       "                reviewerID\n",
       "A1KK3T8I5WY5MB           3\n",
       "ANUUF3N6B9NTA            3\n",
       "A3J30T6XOU0BWS           3\n",
       "A16KNLKH7JYA1I           3\n",
       "A1QD39VRMLDNY            3"
      ]
     },
     "execution_count": 5,
     "metadata": {},
     "output_type": "execute_result"
    }
   ],
   "source": [
    "temp = pd.DataFrame(df_ratings['reviewerID'].value_counts()).reset_index()\n",
    "temp.columns = ['user','Count of reviews']\n",
    "rare_reviewing_users = temp[temp['Count of reviews'] < 3]['user'].tolist()\n",
    "\n",
    "df_ratings_filtered = df_ratings[~df_ratings['reviewerID'].isin(rare_reviewing_users)]\n",
    "pd.DataFrame(df_ratings_filtered['reviewerID'].value_counts()).tail()"
   ]
  },
  {
   "cell_type": "code",
   "execution_count": 10,
   "metadata": {},
   "outputs": [],
   "source": [
    "df_ratings_metadata = df_ratings_filtered.merge(df_metadata[['asin','title','category']],how='inner',on=\"asin\")"
   ]
  },
  {
   "cell_type": "markdown",
   "metadata": {},
   "source": [
    "### Pivot Table of user-item ratings"
   ]
  },
  {
   "cell_type": "code",
   "execution_count": 11,
   "metadata": {},
   "outputs": [
    {
     "data": {
      "text/plain": [
       "<10360x4643 sparse matrix of type '<class 'numpy.float64'>'\n",
       "\twith 21203 stored elements in Compressed Sparse Row format>"
      ]
     },
     "execution_count": 11,
     "metadata": {},
     "output_type": "execute_result"
    }
   ],
   "source": [
    "from scipy.sparse import csr_matrix\n",
    "# pivot ratings into movie features\n",
    "df_user_item = df_ratings_filtered.pivot(\n",
    "    index='asin',\n",
    "    columns='reviewerID',\n",
    "    values='overall'\n",
    ").fillna(0)\n",
    "df_user_item_matrix = csr_matrix(df_user_item.values)\n",
    "df_user_item_matrix"
   ]
  },
  {
   "cell_type": "markdown",
   "metadata": {},
   "source": [
    "### K-NN model implementation"
   ]
  },
  {
   "cell_type": "code",
   "execution_count": 12,
   "metadata": {},
   "outputs": [
    {
     "data": {
      "text/plain": [
       "NearestNeighbors(algorithm='brute', leaf_size=30, metric='cosine',\n",
       "                 metric_params=None, n_jobs=-1, n_neighbors=20, p=2,\n",
       "                 radius=1.0)"
      ]
     },
     "execution_count": 12,
     "metadata": {},
     "output_type": "execute_result"
    }
   ],
   "source": [
    "from sklearn.neighbors import NearestNeighbors\n",
    "#make an object for the NearestNeighbors Class.\n",
    "knn_model = NearestNeighbors(metric='cosine', algorithm='brute', n_neighbors=20, n_jobs=-1)\n",
    "# fit the dataset\n",
    "knn_model.fit(df_user_item_matrix)"
   ]
  },
  {
   "cell_type": "markdown",
   "metadata": {},
   "source": [
    "### Collaborative Filtering"
   ]
  },
  {
   "cell_type": "code",
   "execution_count": 13,
   "metadata": {},
   "outputs": [],
   "source": [
    "def collaborative_filtering(title):\n",
    "    product_id = df_ratings_metadata[df_ratings_metadata['title'] == title]['asin'].unique()[0]\n",
    "    distance, indices  = knn_model.kneighbors(np.array(df_user_item.loc[product_id,:]).reshape(1, -1), n_neighbors = 6)\n",
    "    for i in range (len(distance.flatten())):\n",
    "        if i == 0:\n",
    "            print(\"\\n\",df_ratings_metadata[df_ratings_metadata['asin'] == product_id]['title'].unique().tolist(),\"\\n\")\n",
    "            print(\"Recommended products\\n\")\n",
    "        else:\n",
    "            recommended_item = df_user_item.index[indices.flatten()[i]]\n",
    "            print(df_ratings_metadata[df_ratings_metadata['asin'] == recommended_item]['title'].unique().tolist())\n",
    "            print(df_ratings_metadata[df_ratings_metadata['asin'] == recommended_item]['category'].unique().tolist(),\"\\n\")"
   ]
  },
  {
   "cell_type": "markdown",
   "metadata": {},
   "source": [
    "### Product recommendations using Collaborative-based filtering"
   ]
  },
  {
   "cell_type": "code",
   "execution_count": 14,
   "metadata": {},
   "outputs": [
    {
     "name": "stdout",
     "output_type": "stream",
     "text": [
      "Enter the product title: Baby Banana Bendable Training Toothbrush, Infant\n",
      "\n",
      " ['Baby Banana Bendable Training Toothbrush, Infant'] \n",
      "\n",
      "Recommended products\n",
      "\n",
      "['Graco SimpleSwitch Highchair and Booster, Zooland']\n",
      "['baby'] \n",
      "\n",
      "['12x16 Toddler Pillow (Playful Monkey)']\n",
      "['baby'] \n",
      "\n",
      "['My Brest Friend Slipcover, Leaf']\n",
      "['baby'] \n",
      "\n",
      "['26-Piece Foam Puzzle Play Mat - Solid Colored']\n",
      "['baby'] \n",
      "\n",
      "['Chicco Lil Piano Splash Walker']\n",
      "['baby'] \n",
      "\n"
     ]
    }
   ],
   "source": [
    "input_title = input(\"Enter the product title: \")\n",
    "collaborative_filtering(input_title)"
   ]
  },
  {
   "cell_type": "code",
   "execution_count": null,
   "metadata": {},
   "outputs": [],
   "source": []
  }
 ],
 "metadata": {
  "kernelspec": {
   "display_name": "Python 3",
   "language": "python",
   "name": "python3"
  },
  "language_info": {
   "codemirror_mode": {
    "name": "ipython",
    "version": 3
   },
   "file_extension": ".py",
   "mimetype": "text/x-python",
   "name": "python",
   "nbconvert_exporter": "python",
   "pygments_lexer": "ipython3",
   "version": "3.6.9"
  }
 },
 "nbformat": 4,
 "nbformat_minor": 2
}
