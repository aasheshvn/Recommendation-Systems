{
 "cells": [
  {
   "cell_type": "markdown",
   "metadata": {},
   "source": [
    "# Understanding Word Embeddings to Recommend Movies"
   ]
  },
  {
   "cell_type": "markdown",
   "metadata": {},
   "source": [
    "**Word Embedding** is a technique with which the distance and the relationship between categorical data or words can be determined by representing them as numerical vectors in a n-dimensional space. The distance between the words is proportional to the similarity between them depending on the context of the problem. This technique is highly used in Natural Language Processing and pretrained models like <a href=\"https://en.wikipedia.org/wiki/Word2vec\">Word2Vec</a> and <a href=\"https://en.wikipedia.org/wiki/GloVe_(machine_learning)\">GloVe</a> were developed based on it. \n",
    "\n",
    "Word Embeddings can also be created by training them on the corpus of documents or text in specific supervised learning problems using a neural network embedding model. In this project, word embeddings are created by training movie plots against its corresponding movie genres. \n",
    "\n",
    "*Wouldn't it be interesting to find similar words with respect to genres. For example, words like relationship, marriage, divorce, wedding will be closer or neighbors to each other in an n-dimensional space, as the movie plots will be trained with it's corresponding genre \"Romance\".* You can take a step further and use word embeddings to provide movie recommendations. The detailed steps on the approaches and the process is explained below using the IMDB Movies dataset."
   ]
  },
  {
   "cell_type": "markdown",
   "metadata": {},
   "source": [
    "## Steps Involved"
   ]
  },
  {
   "cell_type": "markdown",
   "metadata": {},
   "source": [
    ">1) Data loading and exploration<br>\n",
    ">2) Data Cleaning<br>\n",
    ">3) Data Preparation for training<br>\n",
    ">4) Building and training the Neural Network model architecture<br>\n",
    ">5) Model evaluation<br>\n",
    ">6) Analysing the Word Embeddings<br>\n",
    ">7) Recommend movies using the trained Word Embeddings <br>"
   ]
  },
  {
   "cell_type": "markdown",
   "metadata": {},
   "source": [
    "### Importing Libraries"
   ]
  },
  {
   "cell_type": "code",
   "execution_count": 2,
   "metadata": {},
   "outputs": [
    {
     "name": "stderr",
     "output_type": "stream",
     "text": [
      "[nltk_data] Downloading package stopwords to\n",
      "[nltk_data]     C:\\Users\\aashe\\AppData\\Roaming\\nltk_data...\n",
      "[nltk_data]   Package stopwords is already up-to-date!\n"
     ]
    }
   ],
   "source": [
    "import warnings\n",
    "warnings.filterwarnings(\"ignore\")\n",
    "import pandas as pd\n",
    "import numpy as np\n",
    "import re\n",
    "import matplotlib.pyplot as plt \n",
    "import string\n",
    "import nltk\n",
    "nltk.download('stopwords')\n",
    "from nltk.corpus import stopwords\n",
    "from nltk.stem.porter import PorterStemmer\n",
    "from sklearn.model_selection import train_test_split\n",
    "from sklearn.metrics import f1_score, recall_score, precision_score, classification_report, accuracy_score\n",
    "import spacy\n",
    "nlp = spacy.load(\"en_core_web_sm\")\n",
    "import keras\n",
    "from keras.models import Sequential, Model\n",
    "from keras.layers import Dropout, Dense, Embedding, Flatten\n",
    "from keras.preprocessing.text import Tokenizer\n",
    "from keras.preprocessing.sequence import pad_sequences\n",
    "from keras.utils import to_categorical\n",
    "from fuzzywuzzy import fuzz \n",
    "from fuzzywuzzy import process \n",
    "from difflib import SequenceMatcher\n",
    "import math\n",
    "from wordcloud import WordCloud, STOPWORDS "
   ]
  },
  {
   "cell_type": "markdown",
   "metadata": {},
   "source": [
    "### Loading the data"
   ]
  },
  {
   "cell_type": "code",
   "execution_count": 3,
   "metadata": {},
   "outputs": [
    {
     "data": {
      "text/html": [
       "<div>\n",
       "<style scoped>\n",
       "    .dataframe tbody tr th:only-of-type {\n",
       "        vertical-align: middle;\n",
       "    }\n",
       "\n",
       "    .dataframe tbody tr th {\n",
       "        vertical-align: top;\n",
       "    }\n",
       "\n",
       "    .dataframe thead th {\n",
       "        text-align: right;\n",
       "    }\n",
       "</style>\n",
       "<table border=\"1\" class=\"dataframe\">\n",
       "  <thead>\n",
       "    <tr style=\"text-align: right;\">\n",
       "      <th></th>\n",
       "      <th>movie_id</th>\n",
       "      <th>title</th>\n",
       "      <th>plot</th>\n",
       "      <th>movie_rating</th>\n",
       "      <th>movie_rating.1</th>\n",
       "      <th>metacritic</th>\n",
       "      <th>dvd_release</th>\n",
       "      <th>production</th>\n",
       "      <th>actors</th>\n",
       "      <th>movie_votes</th>\n",
       "      <th>director</th>\n",
       "      <th>release_date</th>\n",
       "      <th>runtime</th>\n",
       "      <th>genre</th>\n",
       "      <th>awards</th>\n",
       "      <th>keywords</th>\n",
       "      <th>Unnamed: 16</th>\n",
       "    </tr>\n",
       "  </thead>\n",
       "  <tbody>\n",
       "    <tr>\n",
       "      <th>0</th>\n",
       "      <td>tt0010323</td>\n",
       "      <td>The Cabinet of Dr. Caligari</td>\n",
       "      <td>Hypnotist Dr. Caligari uses a somnambulist, Ce...</td>\n",
       "      <td>UNRATED</td>\n",
       "      <td>8.1</td>\n",
       "      <td>NaN</td>\n",
       "      <td>15-Oct-97</td>\n",
       "      <td>Rialto Pictures</td>\n",
       "      <td>Werner Krauss, Conrad Veidt, Friedrich Feher, ...</td>\n",
       "      <td>42,583</td>\n",
       "      <td>Robert Wiene</td>\n",
       "      <td>19-Mar-21</td>\n",
       "      <td>67 min</td>\n",
       "      <td>Fantasy, Horror, Mystery</td>\n",
       "      <td>1 nomination.</td>\n",
       "      <td>expressionism|somnambulist|avant-garde|hypnosi...</td>\n",
       "      <td>NaN</td>\n",
       "    </tr>\n",
       "    <tr>\n",
       "      <th>1</th>\n",
       "      <td>tt0052893</td>\n",
       "      <td>Hiroshima Mon Amour</td>\n",
       "      <td>A French actress filming an anti-war film in H...</td>\n",
       "      <td>NOT RATED</td>\n",
       "      <td>8.0</td>\n",
       "      <td>NaN</td>\n",
       "      <td>24-Jun-03</td>\n",
       "      <td>Rialto Pictures</td>\n",
       "      <td>Emmanuelle Riva, Eiji Okada, Stella Dassas, Pi...</td>\n",
       "      <td>21,154</td>\n",
       "      <td>Alain Resnais</td>\n",
       "      <td>16-May-60</td>\n",
       "      <td>90 min</td>\n",
       "      <td>Drama, Romance</td>\n",
       "      <td>Nominated for 1 Oscar. Another 6 wins &amp; 5 nomi...</td>\n",
       "      <td>memory|atomic-bomb|lovers-separation|impossibl...</td>\n",
       "      <td>NaN</td>\n",
       "    </tr>\n",
       "    <tr>\n",
       "      <th>2</th>\n",
       "      <td>tt0058898</td>\n",
       "      <td>Alphaville</td>\n",
       "      <td>A U.S. secret agent is sent to the distant spa...</td>\n",
       "      <td>NOT RATED</td>\n",
       "      <td>7.2</td>\n",
       "      <td>NaN</td>\n",
       "      <td>20-Oct-98</td>\n",
       "      <td>Rialto Pictures</td>\n",
       "      <td>Eddie Constantine, Anna Karina, Akim Tamiroff</td>\n",
       "      <td>17,801</td>\n",
       "      <td>Jean-Luc Godard</td>\n",
       "      <td>5-May-65</td>\n",
       "      <td>99 min</td>\n",
       "      <td>Drama, Mystery, Sci-Fi</td>\n",
       "      <td>1 win.</td>\n",
       "      <td>dystopia|french-new-wave|satire|comic-violence...</td>\n",
       "      <td>NaN</td>\n",
       "    </tr>\n",
       "    <tr>\n",
       "      <th>3</th>\n",
       "      <td>tt0074252</td>\n",
       "      <td>Ugly, Dirty and Bad</td>\n",
       "      <td>Four generations of a family live crowded toge...</td>\n",
       "      <td>NaN</td>\n",
       "      <td>7.9</td>\n",
       "      <td>NaN</td>\n",
       "      <td>1-Nov-16</td>\n",
       "      <td>Compagnia Cinematografica Champion</td>\n",
       "      <td>Nino Manfredi, Maria Luisa Santella, Francesco...</td>\n",
       "      <td>5,705</td>\n",
       "      <td>Ettore Scola</td>\n",
       "      <td>23-Sep-76</td>\n",
       "      <td>115 min</td>\n",
       "      <td>Comedy, Drama</td>\n",
       "      <td>1 win &amp; 2 nominations.</td>\n",
       "      <td>incest|failed-murder-attempt|poisoned-food|bap...</td>\n",
       "      <td>NaN</td>\n",
       "    </tr>\n",
       "    <tr>\n",
       "      <th>4</th>\n",
       "      <td>tt0084269</td>\n",
       "      <td>Losing Ground</td>\n",
       "      <td>A comedy-drama about a Black American female p...</td>\n",
       "      <td>NaN</td>\n",
       "      <td>6.3</td>\n",
       "      <td>NaN</td>\n",
       "      <td>NaN</td>\n",
       "      <td>Milestone Film &amp; Video</td>\n",
       "      <td>Billie Allen, Gary Bolling, Clarence Branch Jr...</td>\n",
       "      <td>132</td>\n",
       "      <td>Kathleen Collins</td>\n",
       "      <td>1-Jun-82</td>\n",
       "      <td>86 min</td>\n",
       "      <td>Comedy, Drama</td>\n",
       "      <td>NaN</td>\n",
       "      <td>artist|painter|marriage|black-independent-film...</td>\n",
       "      <td>NaN</td>\n",
       "    </tr>\n",
       "  </tbody>\n",
       "</table>\n",
       "</div>"
      ],
      "text/plain": [
       "    movie_id                        title  \\\n",
       "0  tt0010323  The Cabinet of Dr. Caligari   \n",
       "1  tt0052893          Hiroshima Mon Amour   \n",
       "2  tt0058898                   Alphaville   \n",
       "3  tt0074252          Ugly, Dirty and Bad   \n",
       "4  tt0084269                Losing Ground   \n",
       "\n",
       "                                                plot movie_rating  \\\n",
       "0  Hypnotist Dr. Caligari uses a somnambulist, Ce...      UNRATED   \n",
       "1  A French actress filming an anti-war film in H...    NOT RATED   \n",
       "2  A U.S. secret agent is sent to the distant spa...    NOT RATED   \n",
       "3  Four generations of a family live crowded toge...          NaN   \n",
       "4  A comedy-drama about a Black American female p...          NaN   \n",
       "\n",
       "   movie_rating.1  metacritic dvd_release                          production  \\\n",
       "0             8.1         NaN   15-Oct-97                     Rialto Pictures   \n",
       "1             8.0         NaN   24-Jun-03                     Rialto Pictures   \n",
       "2             7.2         NaN   20-Oct-98                     Rialto Pictures   \n",
       "3             7.9         NaN    1-Nov-16  Compagnia Cinematografica Champion   \n",
       "4             6.3         NaN         NaN              Milestone Film & Video   \n",
       "\n",
       "                                              actors movie_votes  \\\n",
       "0  Werner Krauss, Conrad Veidt, Friedrich Feher, ...      42,583   \n",
       "1  Emmanuelle Riva, Eiji Okada, Stella Dassas, Pi...      21,154   \n",
       "2      Eddie Constantine, Anna Karina, Akim Tamiroff      17,801   \n",
       "3  Nino Manfredi, Maria Luisa Santella, Francesco...       5,705   \n",
       "4  Billie Allen, Gary Bolling, Clarence Branch Jr...         132   \n",
       "\n",
       "           director release_date  runtime                     genre  \\\n",
       "0      Robert Wiene    19-Mar-21   67 min  Fantasy, Horror, Mystery   \n",
       "1     Alain Resnais    16-May-60   90 min            Drama, Romance   \n",
       "2   Jean-Luc Godard     5-May-65   99 min    Drama, Mystery, Sci-Fi   \n",
       "3      Ettore Scola    23-Sep-76  115 min             Comedy, Drama   \n",
       "4  Kathleen Collins     1-Jun-82   86 min             Comedy, Drama   \n",
       "\n",
       "                                              awards  \\\n",
       "0                                      1 nomination.   \n",
       "1  Nominated for 1 Oscar. Another 6 wins & 5 nomi...   \n",
       "2                                             1 win.   \n",
       "3                             1 win & 2 nominations.   \n",
       "4                                                NaN   \n",
       "\n",
       "                                            keywords Unnamed: 16  \n",
       "0  expressionism|somnambulist|avant-garde|hypnosi...         NaN  \n",
       "1  memory|atomic-bomb|lovers-separation|impossibl...         NaN  \n",
       "2  dystopia|french-new-wave|satire|comic-violence...         NaN  \n",
       "3  incest|failed-murder-attempt|poisoned-food|bap...         NaN  \n",
       "4  artist|painter|marriage|black-independent-film...         NaN  "
      ]
     },
     "execution_count": 3,
     "metadata": {},
     "output_type": "execute_result"
    }
   ],
   "source": [
    "df_original = pd.read_csv(\"movies.csv\")\n",
    "df_original.head()"
   ]
  },
  {
   "cell_type": "code",
   "execution_count": 4,
   "metadata": {},
   "outputs": [
    {
     "data": {
      "text/plain": [
       "(8561, 17)"
      ]
     },
     "execution_count": 4,
     "metadata": {},
     "output_type": "execute_result"
    }
   ],
   "source": [
    "df_original.shape"
   ]
  },
  {
   "cell_type": "code",
   "execution_count": 5,
   "metadata": {},
   "outputs": [
    {
     "data": {
      "text/plain": [
       "Index(['movie_id', 'title', 'plot', 'movie_rating', 'movie_rating.1',\n",
       "       'metacritic', 'dvd_release', 'production', 'actors', 'movie_votes',\n",
       "       'director', 'release_date', 'runtime', 'genre', 'awards', 'keywords',\n",
       "       'Unnamed: 16'],\n",
       "      dtype='object')"
      ]
     },
     "execution_count": 5,
     "metadata": {},
     "output_type": "execute_result"
    }
   ],
   "source": [
    "df_original.columns"
   ]
  },
  {
   "cell_type": "markdown",
   "metadata": {},
   "source": [
    "<div class=\"alert alert-block alert-success\">\n",
    "The dataset has 8561 movies with 17 features.<br>\n",
    "Features movie_id, title, plot, actors and genre are the only features that will be required for this project\n",
    "</div>"
   ]
  },
  {
   "cell_type": "markdown",
   "metadata": {},
   "source": [
    "### Null Values check and subsetting required features"
   ]
  },
  {
   "cell_type": "code",
   "execution_count": 6,
   "metadata": {},
   "outputs": [
    {
     "data": {
      "text/html": [
       "<div>\n",
       "<style scoped>\n",
       "    .dataframe tbody tr th:only-of-type {\n",
       "        vertical-align: middle;\n",
       "    }\n",
       "\n",
       "    .dataframe tbody tr th {\n",
       "        vertical-align: top;\n",
       "    }\n",
       "\n",
       "    .dataframe thead th {\n",
       "        text-align: right;\n",
       "    }\n",
       "</style>\n",
       "<table border=\"1\" class=\"dataframe\">\n",
       "  <thead>\n",
       "    <tr style=\"text-align: right;\">\n",
       "      <th></th>\n",
       "      <th>Count of Nulls</th>\n",
       "    </tr>\n",
       "  </thead>\n",
       "  <tbody>\n",
       "    <tr>\n",
       "      <th>movie_id</th>\n",
       "      <td>93</td>\n",
       "    </tr>\n",
       "    <tr>\n",
       "      <th>title</th>\n",
       "      <td>93</td>\n",
       "    </tr>\n",
       "    <tr>\n",
       "      <th>plot</th>\n",
       "      <td>365</td>\n",
       "    </tr>\n",
       "    <tr>\n",
       "      <th>genre</th>\n",
       "      <td>137</td>\n",
       "    </tr>\n",
       "    <tr>\n",
       "      <th>actors</th>\n",
       "      <td>408</td>\n",
       "    </tr>\n",
       "  </tbody>\n",
       "</table>\n",
       "</div>"
      ],
      "text/plain": [
       "          Count of Nulls\n",
       "movie_id              93\n",
       "title                 93\n",
       "plot                 365\n",
       "genre                137\n",
       "actors               408"
      ]
     },
     "execution_count": 6,
     "metadata": {},
     "output_type": "execute_result"
    }
   ],
   "source": [
    "df = df_original[['movie_id','title','plot','genre','actors']]\n",
    "pd.DataFrame(df.isna().sum(),columns = ['Count of Nulls'])"
   ]
  },
  {
   "cell_type": "markdown",
   "metadata": {},
   "source": [
    "<div class=\"alert alert-block alert-warning\">\n",
    "These Null records need to be removed\n",
    "</div>"
   ]
  },
  {
   "cell_type": "markdown",
   "metadata": {},
   "source": [
    "### Dropping Null Values"
   ]
  },
  {
   "cell_type": "code",
   "execution_count": 7,
   "metadata": {},
   "outputs": [
    {
     "data": {
      "text/html": [
       "<div>\n",
       "<style scoped>\n",
       "    .dataframe tbody tr th:only-of-type {\n",
       "        vertical-align: middle;\n",
       "    }\n",
       "\n",
       "    .dataframe tbody tr th {\n",
       "        vertical-align: top;\n",
       "    }\n",
       "\n",
       "    .dataframe thead th {\n",
       "        text-align: right;\n",
       "    }\n",
       "</style>\n",
       "<table border=\"1\" class=\"dataframe\">\n",
       "  <thead>\n",
       "    <tr style=\"text-align: right;\">\n",
       "      <th></th>\n",
       "      <th>movie_id</th>\n",
       "      <th>title</th>\n",
       "      <th>plot</th>\n",
       "      <th>genre</th>\n",
       "      <th>actors</th>\n",
       "    </tr>\n",
       "  </thead>\n",
       "  <tbody>\n",
       "    <tr>\n",
       "      <th>0</th>\n",
       "      <td>tt0010323</td>\n",
       "      <td>The Cabinet of Dr. Caligari</td>\n",
       "      <td>Hypnotist Dr. Caligari uses a somnambulist, Ce...</td>\n",
       "      <td>Fantasy, Horror, Mystery</td>\n",
       "      <td>Werner Krauss, Conrad Veidt, Friedrich Feher, ...</td>\n",
       "    </tr>\n",
       "    <tr>\n",
       "      <th>1</th>\n",
       "      <td>tt0052893</td>\n",
       "      <td>Hiroshima Mon Amour</td>\n",
       "      <td>A French actress filming an anti-war film in H...</td>\n",
       "      <td>Drama, Romance</td>\n",
       "      <td>Emmanuelle Riva, Eiji Okada, Stella Dassas, Pi...</td>\n",
       "    </tr>\n",
       "    <tr>\n",
       "      <th>2</th>\n",
       "      <td>tt0058898</td>\n",
       "      <td>Alphaville</td>\n",
       "      <td>A U.S. secret agent is sent to the distant spa...</td>\n",
       "      <td>Drama, Mystery, Sci-Fi</td>\n",
       "      <td>Eddie Constantine, Anna Karina, Akim Tamiroff</td>\n",
       "    </tr>\n",
       "    <tr>\n",
       "      <th>3</th>\n",
       "      <td>tt0074252</td>\n",
       "      <td>Ugly, Dirty and Bad</td>\n",
       "      <td>Four generations of a family live crowded toge...</td>\n",
       "      <td>Comedy, Drama</td>\n",
       "      <td>Nino Manfredi, Maria Luisa Santella, Francesco...</td>\n",
       "    </tr>\n",
       "    <tr>\n",
       "      <th>4</th>\n",
       "      <td>tt0084269</td>\n",
       "      <td>Losing Ground</td>\n",
       "      <td>A comedy-drama about a Black American female p...</td>\n",
       "      <td>Comedy, Drama</td>\n",
       "      <td>Billie Allen, Gary Bolling, Clarence Branch Jr...</td>\n",
       "    </tr>\n",
       "  </tbody>\n",
       "</table>\n",
       "</div>"
      ],
      "text/plain": [
       "    movie_id                        title  \\\n",
       "0  tt0010323  The Cabinet of Dr. Caligari   \n",
       "1  tt0052893          Hiroshima Mon Amour   \n",
       "2  tt0058898                   Alphaville   \n",
       "3  tt0074252          Ugly, Dirty and Bad   \n",
       "4  tt0084269                Losing Ground   \n",
       "\n",
       "                                                plot  \\\n",
       "0  Hypnotist Dr. Caligari uses a somnambulist, Ce...   \n",
       "1  A French actress filming an anti-war film in H...   \n",
       "2  A U.S. secret agent is sent to the distant spa...   \n",
       "3  Four generations of a family live crowded toge...   \n",
       "4  A comedy-drama about a Black American female p...   \n",
       "\n",
       "                      genre                                             actors  \n",
       "0  Fantasy, Horror, Mystery  Werner Krauss, Conrad Veidt, Friedrich Feher, ...  \n",
       "1            Drama, Romance  Emmanuelle Riva, Eiji Okada, Stella Dassas, Pi...  \n",
       "2    Drama, Mystery, Sci-Fi      Eddie Constantine, Anna Karina, Akim Tamiroff  \n",
       "3             Comedy, Drama  Nino Manfredi, Maria Luisa Santella, Francesco...  \n",
       "4             Comedy, Drama  Billie Allen, Gary Bolling, Clarence Branch Jr...  "
      ]
     },
     "execution_count": 7,
     "metadata": {},
     "output_type": "execute_result"
    }
   ],
   "source": [
    "df = df.dropna()\n",
    "df['genre'] = df['genre'].astype('str')  ### Object to String Conversion\n",
    "df['plot'] = df['plot'].astype('str')    ### Object to String Conversion\n",
    "df.head()"
   ]
  },
  {
   "cell_type": "markdown",
   "metadata": {},
   "source": [
    "<div class=\"alert alert-block alert-warning\">\n",
    "As each movie has multiple genres, we will need to treat this as a multi-label classification problem during the training process \n",
    "</div>"
   ]
  },
  {
   "cell_type": "markdown",
   "metadata": {},
   "source": [
    "### Frequency of observations across genres"
   ]
  },
  {
   "cell_type": "markdown",
   "metadata": {},
   "source": [
    "A separate dataset was created by unpivoting the original data so that each movie has a record for each of its genres. In this way, frequency of genres across the whole data can be determined. <br><br><i> <u>Note:</u> This dataset was created just to understand the frequecy distrubution and wouldn't be used any further </i>"
   ]
  },
  {
   "cell_type": "code",
   "execution_count": 8,
   "metadata": {},
   "outputs": [
    {
     "data": {
      "image/png": "[encoded data removed]",
      "text/plain": [
       "<Figure size 720x648 with 1 Axes>"
      ]
     },
     "metadata": {
      "needs_background": "light"
     },
     "output_type": "display_data"
    }
   ],
   "source": [
    "### Creating a dataframe to count the occurences of the genres\n",
    "df_count_genre = df.copy()\n",
    "df_count_genre['genres_list'] = df_count_genre['genre'].apply(lambda x: x.split(', '))\n",
    "df_count_genre = df_count_genre.genres_list.apply(pd.Series).merge(df_count_genre, right_index=True,left_index=True).drop([\"genre\",\"genres_list\"], axis = 1)\n",
    "df_count_genre = df_count_genre.melt(id_vars = ['movie_id', 'title','plot','actors'], value_name = \"genre\")   ###Unpivot\n",
    "df_count_genre = df_count_genre.sort_values(by = 'movie_id')\n",
    "df_count_genre = df_count_genre.dropna()\n",
    "\n",
    "###Plotting the genre distribution\n",
    "genre_distribution = pd.DataFrame(df_count_genre.genre.value_counts(normalize = True)).sort_values(by=['genre'])\n",
    "plt.figure(figsize=(10,9))\n",
    "plt.barh(y=genre_distribution.index, width=genre_distribution['genre'],align='center')\n",
    "plt.xlabel(\"Percentage of observations\",fontsize=20)\n",
    "plt.ylabel(\"Genre\",fontsize=20)\n",
    "plt.title(\"Data across genres\",fontsize=20)\n",
    "plt.show()"
   ]
  },
  {
   "cell_type": "markdown",
   "metadata": {},
   "source": [
    "<div class=\"alert alert-block alert-warning\">\n",
    "From the plot, it is understood that the data is highly imbalanaced and this is a challenge during the training process\n",
    "</div>"
   ]
  },
  {
   "cell_type": "markdown",
   "metadata": {},
   "source": [
    "### Replacing the rarely occuring genres with \"Others\" category"
   ]
  },
  {
   "cell_type": "code",
   "execution_count": 9,
   "metadata": {},
   "outputs": [],
   "source": [
    "#### News, Western, War, Sport, Short\n",
    "df.genre.replace({\"News\": 'Others'},regex = True,inplace=True)\n",
    "df.genre.replace({\"Western\": 'Others'},regex = True,inplace=True)\n",
    "df.genre.replace({\"War\": 'Others'},regex = True,inplace=True)\n",
    "df.genre.replace({\"Sport\": 'Others'},regex = True,inplace=True)\n",
    "df.genre.replace({\"Short\": 'Others'},regex = True,inplace=True)\n",
    "df.genre.replace({\"Musical\": 'Music'},regex = True,inplace=True)"
   ]
  },
  {
   "cell_type": "markdown",
   "metadata": {},
   "source": [
    "### Converting the genres into list"
   ]
  },
  {
   "cell_type": "code",
   "execution_count": 10,
   "metadata": {},
   "outputs": [
    {
     "data": {
      "text/html": [
       "<div>\n",
       "<style scoped>\n",
       "    .dataframe tbody tr th:only-of-type {\n",
       "        vertical-align: middle;\n",
       "    }\n",
       "\n",
       "    .dataframe tbody tr th {\n",
       "        vertical-align: top;\n",
       "    }\n",
       "\n",
       "    .dataframe thead th {\n",
       "        text-align: right;\n",
       "    }\n",
       "</style>\n",
       "<table border=\"1\" class=\"dataframe\">\n",
       "  <thead>\n",
       "    <tr style=\"text-align: right;\">\n",
       "      <th></th>\n",
       "      <th>movie_id</th>\n",
       "      <th>title</th>\n",
       "      <th>plot</th>\n",
       "      <th>genre</th>\n",
       "      <th>actors</th>\n",
       "      <th>genres_list</th>\n",
       "    </tr>\n",
       "  </thead>\n",
       "  <tbody>\n",
       "    <tr>\n",
       "      <th>0</th>\n",
       "      <td>tt0010323</td>\n",
       "      <td>The Cabinet of Dr. Caligari</td>\n",
       "      <td>Hypnotist Dr. Caligari uses a somnambulist, Ce...</td>\n",
       "      <td>Fantasy, Horror, Mystery</td>\n",
       "      <td>Werner Krauss, Conrad Veidt, Friedrich Feher, ...</td>\n",
       "      <td>[Fantasy, Horror, Mystery]</td>\n",
       "    </tr>\n",
       "    <tr>\n",
       "      <th>1</th>\n",
       "      <td>tt0052893</td>\n",
       "      <td>Hiroshima Mon Amour</td>\n",
       "      <td>A French actress filming an anti-war film in H...</td>\n",
       "      <td>Drama, Romance</td>\n",
       "      <td>Emmanuelle Riva, Eiji Okada, Stella Dassas, Pi...</td>\n",
       "      <td>[Drama, Romance]</td>\n",
       "    </tr>\n",
       "    <tr>\n",
       "      <th>2</th>\n",
       "      <td>tt0058898</td>\n",
       "      <td>Alphaville</td>\n",
       "      <td>A U.S. secret agent is sent to the distant spa...</td>\n",
       "      <td>Drama, Mystery, Sci-Fi</td>\n",
       "      <td>Eddie Constantine, Anna Karina, Akim Tamiroff</td>\n",
       "      <td>[Drama, Mystery, Sci-Fi]</td>\n",
       "    </tr>\n",
       "    <tr>\n",
       "      <th>3</th>\n",
       "      <td>tt0074252</td>\n",
       "      <td>Ugly, Dirty and Bad</td>\n",
       "      <td>Four generations of a family live crowded toge...</td>\n",
       "      <td>Comedy, Drama</td>\n",
       "      <td>Nino Manfredi, Maria Luisa Santella, Francesco...</td>\n",
       "      <td>[Comedy, Drama]</td>\n",
       "    </tr>\n",
       "    <tr>\n",
       "      <th>4</th>\n",
       "      <td>tt0084269</td>\n",
       "      <td>Losing Ground</td>\n",
       "      <td>A comedy-drama about a Black American female p...</td>\n",
       "      <td>Comedy, Drama</td>\n",
       "      <td>Billie Allen, Gary Bolling, Clarence Branch Jr...</td>\n",
       "      <td>[Comedy, Drama]</td>\n",
       "    </tr>\n",
       "  </tbody>\n",
       "</table>\n",
       "</div>"
      ],
      "text/plain": [
       "    movie_id                        title  \\\n",
       "0  tt0010323  The Cabinet of Dr. Caligari   \n",
       "1  tt0052893          Hiroshima Mon Amour   \n",
       "2  tt0058898                   Alphaville   \n",
       "3  tt0074252          Ugly, Dirty and Bad   \n",
       "4  tt0084269                Losing Ground   \n",
       "\n",
       "                                                plot  \\\n",
       "0  Hypnotist Dr. Caligari uses a somnambulist, Ce...   \n",
       "1  A French actress filming an anti-war film in H...   \n",
       "2  A U.S. secret agent is sent to the distant spa...   \n",
       "3  Four generations of a family live crowded toge...   \n",
       "4  A comedy-drama about a Black American female p...   \n",
       "\n",
       "                      genre  \\\n",
       "0  Fantasy, Horror, Mystery   \n",
       "1            Drama, Romance   \n",
       "2    Drama, Mystery, Sci-Fi   \n",
       "3             Comedy, Drama   \n",
       "4             Comedy, Drama   \n",
       "\n",
       "                                              actors  \\\n",
       "0  Werner Krauss, Conrad Veidt, Friedrich Feher, ...   \n",
       "1  Emmanuelle Riva, Eiji Okada, Stella Dassas, Pi...   \n",
       "2      Eddie Constantine, Anna Karina, Akim Tamiroff   \n",
       "3  Nino Manfredi, Maria Luisa Santella, Francesco...   \n",
       "4  Billie Allen, Gary Bolling, Clarence Branch Jr...   \n",
       "\n",
       "                  genres_list  \n",
       "0  [Fantasy, Horror, Mystery]  \n",
       "1            [Drama, Romance]  \n",
       "2    [Drama, Mystery, Sci-Fi]  \n",
       "3             [Comedy, Drama]  \n",
       "4             [Comedy, Drama]  "
      ]
     },
     "execution_count": 10,
     "metadata": {},
     "output_type": "execute_result"
    }
   ],
   "source": [
    "df['genres_list'] = df['genre'].apply(lambda x: x.split(', '))\n",
    "df.head()"
   ]
  },
  {
   "cell_type": "markdown",
   "metadata": {},
   "source": [
    "### Movie Plot Cleaning"
   ]
  },
  {
   "cell_type": "markdown",
   "metadata": {},
   "source": [
    "Word Embeddings will be created using the **Movie plots** and hence needs to be cleaned. The cleaning process involves<br>\n",
    "- Stopwords removal\n",
    "- Punctuations removal\n",
    "- Lemmatization - Finding the root words for each word. This will reduce the overall vocabulary size.\n"
   ]
  },
  {
   "cell_type": "code",
   "execution_count": 12,
   "metadata": {},
   "outputs": [],
   "source": [
    "def cleaning(word):\n",
    "    \n",
    "    ###Stopword Removal\n",
    "    stop = stopwords.words('english')\n",
    "    word = word.split()\n",
    "    cleaned = \" \".join([item for item in word if item.lower() not in stop])\n",
    "    cleaned = cleaned.replace(\"'\", \"\").lower()\n",
    "    cleaned=re.sub(r'[^\\w\\s]',' ',cleaned)   ###Punctuation removal\n",
    "    \n",
    "    ###Lemmatization\n",
    "    nlp_lemma = nlp(cleaned)\n",
    "    cleaned = \" \".join([item.lemma_ for item in nlp_lemma])\n",
    "    \n",
    "    return cleaned"
   ]
  },
  {
   "cell_type": "markdown",
   "metadata": {},
   "source": [
    "### Extracting nouns and adjectives from the movie plots"
   ]
  },
  {
   "cell_type": "markdown",
   "metadata": {},
   "source": [
    "In my opinion, nouns and adjectives of the movie plots are going to be the major part of speeches that will help in understanding the genres.\n",
    "\n",
    "For example, a movie plot having words such as ghost, fear, zombie, vampire will mostly have \"horror\" as one of its genres.\n",
    "Spacy library's **POS tagging** is used here to perform this action"
   ]
  },
  {
   "cell_type": "code",
   "execution_count": 13,
   "metadata": {},
   "outputs": [],
   "source": [
    "def clean_pos(plot):\n",
    "    plot = nlp(plot)\n",
    "    tags = [i for i in plot if i.tag_ == 'NN' or i.tag_ == 'NNS' or i.tag_ == 'JJ' or i.tag_ == 'JJR' or i.tag_ == 'JJS']\n",
    "    return tags"
   ]
  },
  {
   "cell_type": "markdown",
   "metadata": {},
   "source": [
    "### Applying the above functions on the data"
   ]
  },
  {
   "cell_type": "code",
   "execution_count": 16,
   "metadata": {},
   "outputs": [
    {
     "data": {
      "text/html": [
       "<div>\n",
       "<style scoped>\n",
       "    .dataframe tbody tr th:only-of-type {\n",
       "        vertical-align: middle;\n",
       "    }\n",
       "\n",
       "    .dataframe tbody tr th {\n",
       "        vertical-align: top;\n",
       "    }\n",
       "\n",
       "    .dataframe thead th {\n",
       "        text-align: right;\n",
       "    }\n",
       "</style>\n",
       "<table border=\"1\" class=\"dataframe\">\n",
       "  <thead>\n",
       "    <tr style=\"text-align: right;\">\n",
       "      <th></th>\n",
       "      <th>movie_id</th>\n",
       "      <th>title</th>\n",
       "      <th>plot</th>\n",
       "      <th>genre</th>\n",
       "      <th>actors</th>\n",
       "      <th>genres_list</th>\n",
       "      <th>plot_cleaned</th>\n",
       "      <th>plot_tags</th>\n",
       "    </tr>\n",
       "  </thead>\n",
       "  <tbody>\n",
       "    <tr>\n",
       "      <th>0</th>\n",
       "      <td>tt0010323</td>\n",
       "      <td>The Cabinet of Dr. Caligari</td>\n",
       "      <td>Hypnotist Dr. Caligari uses a somnambulist, Ce...</td>\n",
       "      <td>Fantasy, Horror, Mystery</td>\n",
       "      <td>Werner Krauss, Conrad Veidt, Friedrich Feher, ...</td>\n",
       "      <td>[Fantasy, Horror, Mystery]</td>\n",
       "      <td>hypnotist dr   caligari use somnambulist   ces...</td>\n",
       "      <td>[caligari, use, somnambulist, cesare, commit, ...</td>\n",
       "    </tr>\n",
       "    <tr>\n",
       "      <th>1</th>\n",
       "      <td>tt0052893</td>\n",
       "      <td>Hiroshima Mon Amour</td>\n",
       "      <td>A French actress filming an anti-war film in H...</td>\n",
       "      <td>Drama, Romance</td>\n",
       "      <td>Emmanuelle Riva, Eiji Okada, Stella Dassas, Pi...</td>\n",
       "      <td>[Drama, Romance]</td>\n",
       "      <td>french actress film anti war film hiroshima af...</td>\n",
       "      <td>[french, film, marry, japanese, architect, sha...</td>\n",
       "    </tr>\n",
       "    <tr>\n",
       "      <th>2</th>\n",
       "      <td>tt0058898</td>\n",
       "      <td>Alphaville</td>\n",
       "      <td>A U.S. secret agent is sent to the distant spa...</td>\n",
       "      <td>Drama, Mystery, Sci-Fi</td>\n",
       "      <td>Eddie Constantine, Anna Karina, Akim Tamiroff</td>\n",
       "      <td>[Drama, Mystery, Sci-Fi]</td>\n",
       "      <td>u s   secret agent send distant space city alp...</td>\n",
       "      <td>[secret, agent, distant, city, person, free, t...</td>\n",
       "    </tr>\n",
       "    <tr>\n",
       "      <th>3</th>\n",
       "      <td>tt0074252</td>\n",
       "      <td>Ugly, Dirty and Bad</td>\n",
       "      <td>Four generations of a family live crowded toge...</td>\n",
       "      <td>Comedy, Drama</td>\n",
       "      <td>Nino Manfredi, Maria Luisa Santella, Francesco...</td>\n",
       "      <td>[Comedy, Drama]</td>\n",
       "      <td>four generation family live crowd together car...</td>\n",
       "      <td>[generation, family, crowd, inner, city, plan,...</td>\n",
       "    </tr>\n",
       "    <tr>\n",
       "      <th>4</th>\n",
       "      <td>tt0084269</td>\n",
       "      <td>Losing Ground</td>\n",
       "      <td>A comedy-drama about a Black American female p...</td>\n",
       "      <td>Comedy, Drama</td>\n",
       "      <td>Billie Allen, Gary Bolling, Clarence Branch Jr...</td>\n",
       "      <td>[Comedy, Drama]</td>\n",
       "      <td>comedy drama black american female philosophy ...</td>\n",
       "      <td>[drama, female, philosophy, professor, insensi...</td>\n",
       "    </tr>\n",
       "  </tbody>\n",
       "</table>\n",
       "</div>"
      ],
      "text/plain": [
       "    movie_id                        title  \\\n",
       "0  tt0010323  The Cabinet of Dr. Caligari   \n",
       "1  tt0052893          Hiroshima Mon Amour   \n",
       "2  tt0058898                   Alphaville   \n",
       "3  tt0074252          Ugly, Dirty and Bad   \n",
       "4  tt0084269                Losing Ground   \n",
       "\n",
       "                                                plot  \\\n",
       "0  Hypnotist Dr. Caligari uses a somnambulist, Ce...   \n",
       "1  A French actress filming an anti-war film in H...   \n",
       "2  A U.S. secret agent is sent to the distant spa...   \n",
       "3  Four generations of a family live crowded toge...   \n",
       "4  A comedy-drama about a Black American female p...   \n",
       "\n",
       "                      genre  \\\n",
       "0  Fantasy, Horror, Mystery   \n",
       "1            Drama, Romance   \n",
       "2    Drama, Mystery, Sci-Fi   \n",
       "3             Comedy, Drama   \n",
       "4             Comedy, Drama   \n",
       "\n",
       "                                              actors  \\\n",
       "0  Werner Krauss, Conrad Veidt, Friedrich Feher, ...   \n",
       "1  Emmanuelle Riva, Eiji Okada, Stella Dassas, Pi...   \n",
       "2      Eddie Constantine, Anna Karina, Akim Tamiroff   \n",
       "3  Nino Manfredi, Maria Luisa Santella, Francesco...   \n",
       "4  Billie Allen, Gary Bolling, Clarence Branch Jr...   \n",
       "\n",
       "                  genres_list  \\\n",
       "0  [Fantasy, Horror, Mystery]   \n",
       "1            [Drama, Romance]   \n",
       "2    [Drama, Mystery, Sci-Fi]   \n",
       "3             [Comedy, Drama]   \n",
       "4             [Comedy, Drama]   \n",
       "\n",
       "                                        plot_cleaned  \\\n",
       "0  hypnotist dr   caligari use somnambulist   ces...   \n",
       "1  french actress film anti war film hiroshima af...   \n",
       "2  u s   secret agent send distant space city alp...   \n",
       "3  four generation family live crowd together car...   \n",
       "4  comedy drama black american female philosophy ...   \n",
       "\n",
       "                                           plot_tags  \n",
       "0  [caligari, use, somnambulist, cesare, commit, ...  \n",
       "1  [french, film, marry, japanese, architect, sha...  \n",
       "2  [secret, agent, distant, city, person, free, t...  \n",
       "3  [generation, family, crowd, inner, city, plan,...  \n",
       "4  [drama, female, philosophy, professor, insensi...  "
      ]
     },
     "execution_count": 16,
     "metadata": {},
     "output_type": "execute_result"
    }
   ],
   "source": [
    "df['plot_cleaned']=df['plot'].apply(cleaning)\n",
    "df.head()"
   ]
  },
  {
   "cell_type": "code",
   "execution_count": 17,
   "metadata": {},
   "outputs": [
    {
     "data": {
      "text/html": [
       "<div>\n",
       "<style scoped>\n",
       "    .dataframe tbody tr th:only-of-type {\n",
       "        vertical-align: middle;\n",
       "    }\n",
       "\n",
       "    .dataframe tbody tr th {\n",
       "        vertical-align: top;\n",
       "    }\n",
       "\n",
       "    .dataframe thead th {\n",
       "        text-align: right;\n",
       "    }\n",
       "</style>\n",
       "<table border=\"1\" class=\"dataframe\">\n",
       "  <thead>\n",
       "    <tr style=\"text-align: right;\">\n",
       "      <th></th>\n",
       "      <th>movie_id</th>\n",
       "      <th>title</th>\n",
       "      <th>plot</th>\n",
       "      <th>genre</th>\n",
       "      <th>actors</th>\n",
       "      <th>genres_list</th>\n",
       "      <th>plot_cleaned</th>\n",
       "      <th>plot_tags</th>\n",
       "    </tr>\n",
       "  </thead>\n",
       "  <tbody>\n",
       "    <tr>\n",
       "      <th>0</th>\n",
       "      <td>tt0010323</td>\n",
       "      <td>The Cabinet of Dr. Caligari</td>\n",
       "      <td>Hypnotist Dr. Caligari uses a somnambulist, Ce...</td>\n",
       "      <td>Fantasy, Horror, Mystery</td>\n",
       "      <td>Werner Krauss, Conrad Veidt, Friedrich Feher, ...</td>\n",
       "      <td>[Fantasy, Horror, Mystery]</td>\n",
       "      <td>hypnotist dr   caligari use somnambulist   ces...</td>\n",
       "      <td>[caligari, use, somnambulist, cesare, commit, ...</td>\n",
       "    </tr>\n",
       "    <tr>\n",
       "      <th>1</th>\n",
       "      <td>tt0052893</td>\n",
       "      <td>Hiroshima Mon Amour</td>\n",
       "      <td>A French actress filming an anti-war film in H...</td>\n",
       "      <td>Drama, Romance</td>\n",
       "      <td>Emmanuelle Riva, Eiji Okada, Stella Dassas, Pi...</td>\n",
       "      <td>[Drama, Romance]</td>\n",
       "      <td>french actress film anti war film hiroshima af...</td>\n",
       "      <td>[french, film, marry, japanese, architect, sha...</td>\n",
       "    </tr>\n",
       "    <tr>\n",
       "      <th>2</th>\n",
       "      <td>tt0058898</td>\n",
       "      <td>Alphaville</td>\n",
       "      <td>A U.S. secret agent is sent to the distant spa...</td>\n",
       "      <td>Drama, Mystery, Sci-Fi</td>\n",
       "      <td>Eddie Constantine, Anna Karina, Akim Tamiroff</td>\n",
       "      <td>[Drama, Mystery, Sci-Fi]</td>\n",
       "      <td>u s   secret agent send distant space city alp...</td>\n",
       "      <td>[secret, agent, distant, city, person, free, t...</td>\n",
       "    </tr>\n",
       "    <tr>\n",
       "      <th>3</th>\n",
       "      <td>tt0074252</td>\n",
       "      <td>Ugly, Dirty and Bad</td>\n",
       "      <td>Four generations of a family live crowded toge...</td>\n",
       "      <td>Comedy, Drama</td>\n",
       "      <td>Nino Manfredi, Maria Luisa Santella, Francesco...</td>\n",
       "      <td>[Comedy, Drama]</td>\n",
       "      <td>four generation family live crowd together car...</td>\n",
       "      <td>[generation, family, crowd, inner, city, plan,...</td>\n",
       "    </tr>\n",
       "    <tr>\n",
       "      <th>4</th>\n",
       "      <td>tt0084269</td>\n",
       "      <td>Losing Ground</td>\n",
       "      <td>A comedy-drama about a Black American female p...</td>\n",
       "      <td>Comedy, Drama</td>\n",
       "      <td>Billie Allen, Gary Bolling, Clarence Branch Jr...</td>\n",
       "      <td>[Comedy, Drama]</td>\n",
       "      <td>comedy drama black american female philosophy ...</td>\n",
       "      <td>[drama, female, philosophy, professor, insensi...</td>\n",
       "    </tr>\n",
       "  </tbody>\n",
       "</table>\n",
       "</div>"
      ],
      "text/plain": [
       "    movie_id                        title  \\\n",
       "0  tt0010323  The Cabinet of Dr. Caligari   \n",
       "1  tt0052893          Hiroshima Mon Amour   \n",
       "2  tt0058898                   Alphaville   \n",
       "3  tt0074252          Ugly, Dirty and Bad   \n",
       "4  tt0084269                Losing Ground   \n",
       "\n",
       "                                                plot  \\\n",
       "0  Hypnotist Dr. Caligari uses a somnambulist, Ce...   \n",
       "1  A French actress filming an anti-war film in H...   \n",
       "2  A U.S. secret agent is sent to the distant spa...   \n",
       "3  Four generations of a family live crowded toge...   \n",
       "4  A comedy-drama about a Black American female p...   \n",
       "\n",
       "                      genre  \\\n",
       "0  Fantasy, Horror, Mystery   \n",
       "1            Drama, Romance   \n",
       "2    Drama, Mystery, Sci-Fi   \n",
       "3             Comedy, Drama   \n",
       "4             Comedy, Drama   \n",
       "\n",
       "                                              actors  \\\n",
       "0  Werner Krauss, Conrad Veidt, Friedrich Feher, ...   \n",
       "1  Emmanuelle Riva, Eiji Okada, Stella Dassas, Pi...   \n",
       "2      Eddie Constantine, Anna Karina, Akim Tamiroff   \n",
       "3  Nino Manfredi, Maria Luisa Santella, Francesco...   \n",
       "4  Billie Allen, Gary Bolling, Clarence Branch Jr...   \n",
       "\n",
       "                  genres_list  \\\n",
       "0  [Fantasy, Horror, Mystery]   \n",
       "1            [Drama, Romance]   \n",
       "2    [Drama, Mystery, Sci-Fi]   \n",
       "3             [Comedy, Drama]   \n",
       "4             [Comedy, Drama]   \n",
       "\n",
       "                                        plot_cleaned  \\\n",
       "0  hypnotist dr   caligari use somnambulist   ces...   \n",
       "1  french actress film anti war film hiroshima af...   \n",
       "2  u s   secret agent send distant space city alp...   \n",
       "3  four generation family live crowd together car...   \n",
       "4  comedy drama black american female philosophy ...   \n",
       "\n",
       "                                           plot_tags  \n",
       "0  [caligari, use, somnambulist, cesare, commit, ...  \n",
       "1  [french, film, marry, japanese, architect, sha...  \n",
       "2  [secret, agent, distant, city, person, free, t...  \n",
       "3  [generation, family, crowd, inner, city, plan,...  \n",
       "4  [drama, female, philosophy, professor, insensi...  "
      ]
     },
     "execution_count": 17,
     "metadata": {},
     "output_type": "execute_result"
    }
   ],
   "source": [
    "df['plot_tags']=df['plot_cleaned'].apply(clean_pos)\n",
    "df.head()"
   ]
  },
  {
   "cell_type": "markdown",
   "metadata": {},
   "source": [
    "### Calculated the extracted POS tags length for each observation"
   ]
  },
  {
   "cell_type": "code",
   "execution_count": 18,
   "metadata": {},
   "outputs": [],
   "source": [
    "df['plot_tags_length']  = df['plot_tags'].apply(lambda x: len(x))"
   ]
  },
  {
   "cell_type": "markdown",
   "metadata": {},
   "source": [
    "### Outlier Detection"
   ]
  },
  {
   "cell_type": "code",
   "execution_count": 19,
   "metadata": {},
   "outputs": [
    {
     "data": {
      "image/png": "[encoded data removed]",
      "text/plain": [
       "<Figure size 216x288 with 1 Axes>"
      ]
     },
     "metadata": {
      "needs_background": "light"
     },
     "output_type": "display_data"
    }
   ],
   "source": [
    "plt.figure(figsize=(3,4))\n",
    "df.boxplot(column = ['plot_tags_length'])\n",
    "plt.show()"
   ]
  },
  {
   "cell_type": "markdown",
   "metadata": {},
   "source": [
    "<div class=\"alert alert-block alert-warning\">\n",
    "There are records where the plot POS tags length are way higher than the average plot tag length. These records are outliers and need to be treated. <b>Interquartile Range</b> method is used here to remove these outliers.\n",
    "</div>"
   ]
  },
  {
   "cell_type": "code",
   "execution_count": 20,
   "metadata": {},
   "outputs": [
    {
     "data": {
      "text/html": [
       "<div>\n",
       "<style scoped>\n",
       "    .dataframe tbody tr th:only-of-type {\n",
       "        vertical-align: middle;\n",
       "    }\n",
       "\n",
       "    .dataframe tbody tr th {\n",
       "        vertical-align: top;\n",
       "    }\n",
       "\n",
       "    .dataframe thead th {\n",
       "        text-align: right;\n",
       "    }\n",
       "</style>\n",
       "<table border=\"1\" class=\"dataframe\">\n",
       "  <thead>\n",
       "    <tr style=\"text-align: right;\">\n",
       "      <th></th>\n",
       "      <th>plot_tags_length</th>\n",
       "    </tr>\n",
       "  </thead>\n",
       "  <tbody>\n",
       "    <tr>\n",
       "      <th>count</th>\n",
       "      <td>7883.000000</td>\n",
       "    </tr>\n",
       "    <tr>\n",
       "      <th>mean</th>\n",
       "      <td>8.476468</td>\n",
       "    </tr>\n",
       "    <tr>\n",
       "      <th>std</th>\n",
       "      <td>3.603763</td>\n",
       "    </tr>\n",
       "    <tr>\n",
       "      <th>min</th>\n",
       "      <td>0.000000</td>\n",
       "    </tr>\n",
       "    <tr>\n",
       "      <th>25%</th>\n",
       "      <td>6.000000</td>\n",
       "    </tr>\n",
       "    <tr>\n",
       "      <th>50%</th>\n",
       "      <td>8.000000</td>\n",
       "    </tr>\n",
       "    <tr>\n",
       "      <th>75%</th>\n",
       "      <td>11.000000</td>\n",
       "    </tr>\n",
       "    <tr>\n",
       "      <th>max</th>\n",
       "      <td>18.000000</td>\n",
       "    </tr>\n",
       "  </tbody>\n",
       "</table>\n",
       "</div>"
      ],
      "text/plain": [
       "       plot_tags_length\n",
       "count       7883.000000\n",
       "mean           8.476468\n",
       "std            3.603763\n",
       "min            0.000000\n",
       "25%            6.000000\n",
       "50%            8.000000\n",
       "75%           11.000000\n",
       "max           18.000000"
      ]
     },
     "execution_count": 20,
     "metadata": {},
     "output_type": "execute_result"
    }
   ],
   "source": [
    "outlier_value = df['plot_tags_length'].quantile(0.75) + 1.5*(df['plot_tags_length'].quantile(q=0.75) - df['plot_tags_length'].quantile(q=0.25))\n",
    "df = df[df['plot_tags_length'] < math.ceil(outlier_value)]\n",
    "pd.DataFrame(df['plot_tags_length'].describe())"
   ]
  },
  {
   "cell_type": "markdown",
   "metadata": {},
   "source": [
    "### Word Cloud to understand the frequency of words"
   ]
  },
  {
   "cell_type": "code",
   "execution_count": 21,
   "metadata": {},
   "outputs": [
    {
     "data": {
      "image/png": "[encoded data removed]",
      "text/plain": [
       "<Figure size 648x648 with 1 Axes>"
      ]
     },
     "metadata": {
      "needs_background": "light"
     },
     "output_type": "display_data"
    }
   ],
   "source": [
    "stop_words = set(STOPWORDS)\n",
    "wordcloud = WordCloud(stopwords = stop_words).generate(str(df['plot_tags']))\n",
    "plt.figure(figsize=(9,9))\n",
    "plt.imshow(wordcloud)\n",
    "plt.axis(\"off\")\n",
    "plt.show()"
   ]
  },
  {
   "cell_type": "markdown",
   "metadata": {},
   "source": [
    "### Tokenization and Sequence Generation"
   ]
  },
  {
   "cell_type": "markdown",
   "metadata": {},
   "source": [
    "This process involves creating a **unique integer id** for each token or word in the plot tags (As Neural Networks accept only numerical inputs)\n",
    "    \n",
    "Both frequently and rarely occuring words are removed from the data for better training purposes as frequent words will not help much in discerning the genres and vice-versa for rare words. <br> **Thresholds** have been set to remove these words from the tokenized dictionary (i.e) Words occuring less than 20 times and words occuring more than 400 times throughout the data are removed."
   ]
  },
  {
   "cell_type": "code",
   "execution_count": 22,
   "metadata": {},
   "outputs": [],
   "source": [
    "token = Tokenizer()\n",
    "token.fit_on_texts(df['plot_tags'].astype('str'))\n",
    "\n",
    "count_lower_thres = 20\n",
    "count_upper_thres = 400\n",
    "rare_words = [w for w,c in token.word_counts.items() if c <= count_lower_thres]\n",
    "frequent_words = [w for w,c in token.word_counts.items() if c > count_upper_thres]\n",
    "remove_words = rare_words + frequent_words\n",
    "\n",
    "for w in remove_words:\n",
    "    num = token.word_index[w]\n",
    "    del token.word_index[w]\n",
    "    del token.word_docs[w]\n",
    "    del token.word_counts[w]\n",
    "    del token.index_word[num]\n",
    "    del token.index_docs[num]\n",
    "    \n",
    "df['plot_tag_num_rep']= token.texts_to_sequences(df['plot_tags'].astype('str'))"
   ]
  },
  {
   "cell_type": "code",
   "execution_count": 23,
   "metadata": {},
   "outputs": [
    {
     "data": {
      "text/html": [
       "<div>\n",
       "<style scoped>\n",
       "    .dataframe tbody tr th:only-of-type {\n",
       "        vertical-align: middle;\n",
       "    }\n",
       "\n",
       "    .dataframe tbody tr th {\n",
       "        vertical-align: top;\n",
       "    }\n",
       "\n",
       "    .dataframe thead th {\n",
       "        text-align: right;\n",
       "    }\n",
       "</style>\n",
       "<table border=\"1\" class=\"dataframe\">\n",
       "  <thead>\n",
       "    <tr style=\"text-align: right;\">\n",
       "      <th></th>\n",
       "      <th>num_rep_length</th>\n",
       "    </tr>\n",
       "  </thead>\n",
       "  <tbody>\n",
       "    <tr>\n",
       "      <th>count</th>\n",
       "      <td>7883.000000</td>\n",
       "    </tr>\n",
       "    <tr>\n",
       "      <th>mean</th>\n",
       "      <td>4.397818</td>\n",
       "    </tr>\n",
       "    <tr>\n",
       "      <th>std</th>\n",
       "      <td>2.401113</td>\n",
       "    </tr>\n",
       "    <tr>\n",
       "      <th>min</th>\n",
       "      <td>0.000000</td>\n",
       "    </tr>\n",
       "    <tr>\n",
       "      <th>25%</th>\n",
       "      <td>3.000000</td>\n",
       "    </tr>\n",
       "    <tr>\n",
       "      <th>50%</th>\n",
       "      <td>4.000000</td>\n",
       "    </tr>\n",
       "    <tr>\n",
       "      <th>75%</th>\n",
       "      <td>6.000000</td>\n",
       "    </tr>\n",
       "    <tr>\n",
       "      <th>max</th>\n",
       "      <td>15.000000</td>\n",
       "    </tr>\n",
       "  </tbody>\n",
       "</table>\n",
       "</div>"
      ],
      "text/plain": [
       "       num_rep_length\n",
       "count     7883.000000\n",
       "mean         4.397818\n",
       "std          2.401113\n",
       "min          0.000000\n",
       "25%          3.000000\n",
       "50%          4.000000\n",
       "75%          6.000000\n",
       "max         15.000000"
      ]
     },
     "execution_count": 23,
     "metadata": {},
     "output_type": "execute_result"
    }
   ],
   "source": [
    "df['num_rep_length']  = df['plot_tag_num_rep'].apply(lambda x: len(x))\n",
    "pd.DataFrame(df['num_rep_length'].describe())"
   ]
  },
  {
   "cell_type": "markdown",
   "metadata": {},
   "source": [
    "### Target Variable Encoding"
   ]
  },
  {
   "cell_type": "code",
   "execution_count": 24,
   "metadata": {},
   "outputs": [
    {
     "data": {
      "text/plain": [
       "array(['Action', 'Adventure', 'Animation', 'Biography', 'Comedy', 'Crime',\n",
       "       'Documentary', 'Drama', 'Family', 'Fantasy', 'History', 'Horror',\n",
       "       'Music', 'Mystery', 'Others', 'Romance', 'Sci-Fi', 'Thriller'],\n",
       "      dtype=object)"
      ]
     },
     "execution_count": 24,
     "metadata": {},
     "output_type": "execute_result"
    }
   ],
   "source": [
    "from sklearn.preprocessing import MultiLabelBinarizer\n",
    "\n",
    "multilabel_binarizer = MultiLabelBinarizer()\n",
    "multilabel_binarizer.fit(df['genres_list'])\n",
    "# transform target variable\n",
    "y = multilabel_binarizer.transform(df['genres_list'])\n",
    "multilabel_binarizer.classes_"
   ]
  },
  {
   "cell_type": "code",
   "execution_count": 25,
   "metadata": {},
   "outputs": [
    {
     "data": {
      "text/plain": [
       "array([0, 0, 0, 0, 0, 0, 0, 0, 0, 1, 0, 1, 0, 1, 0, 0, 0, 0])"
      ]
     },
     "execution_count": 25,
     "metadata": {},
     "output_type": "execute_result"
    }
   ],
   "source": [
    "y[0]"
   ]
  },
  {
   "cell_type": "markdown",
   "metadata": {},
   "source": [
    "### Padding and Data Partitioning"
   ]
  },
  {
   "cell_type": "code",
   "execution_count": 26,
   "metadata": {},
   "outputs": [],
   "source": [
    "x = pad_sequences(df['plot_tag_num_rep'], maxlen=15, padding='post')\n",
    "\n",
    "X_train, X_test, y_train, y_test = train_test_split(x, y, test_size=0.3,random_state=1)"
   ]
  },
  {
   "cell_type": "markdown",
   "metadata": {},
   "source": [
    "<div class=\"alert alert-block alert-success\">\n",
    "Padding (Appending 0's) is performed to ensure all the tokenized sequences are of the same length as neural network models demands each observation to be of the same length\n",
    "</div>"
   ]
  },
  {
   "cell_type": "code",
   "execution_count": 27,
   "metadata": {},
   "outputs": [
    {
     "data": {
      "text/html": [
       "<div>\n",
       "<style scoped>\n",
       "    .dataframe tbody tr th:only-of-type {\n",
       "        vertical-align: middle;\n",
       "    }\n",
       "\n",
       "    .dataframe tbody tr th {\n",
       "        vertical-align: top;\n",
       "    }\n",
       "\n",
       "    .dataframe thead th {\n",
       "        text-align: right;\n",
       "    }\n",
       "</style>\n",
       "<table border=\"1\" class=\"dataframe\">\n",
       "  <thead>\n",
       "    <tr style=\"text-align: right;\">\n",
       "      <th></th>\n",
       "      <th>0</th>\n",
       "      <th>1</th>\n",
       "      <th>2</th>\n",
       "      <th>3</th>\n",
       "      <th>4</th>\n",
       "      <th>5</th>\n",
       "      <th>6</th>\n",
       "      <th>7</th>\n",
       "      <th>8</th>\n",
       "      <th>9</th>\n",
       "      <th>10</th>\n",
       "      <th>11</th>\n",
       "      <th>12</th>\n",
       "      <th>13</th>\n",
       "      <th>14</th>\n",
       "    </tr>\n",
       "  </thead>\n",
       "  <tbody>\n",
       "    <tr>\n",
       "      <th>0</th>\n",
       "      <td>232</td>\n",
       "      <td>35</td>\n",
       "      <td>0</td>\n",
       "      <td>0</td>\n",
       "      <td>0</td>\n",
       "      <td>0</td>\n",
       "      <td>0</td>\n",
       "      <td>0</td>\n",
       "      <td>0</td>\n",
       "      <td>0</td>\n",
       "      <td>0</td>\n",
       "      <td>0</td>\n",
       "      <td>0</td>\n",
       "      <td>0</td>\n",
       "      <td>0</td>\n",
       "    </tr>\n",
       "    <tr>\n",
       "      <th>1</th>\n",
       "      <td>14</td>\n",
       "      <td>386</td>\n",
       "      <td>401</td>\n",
       "      <td>318</td>\n",
       "      <td>61</td>\n",
       "      <td>0</td>\n",
       "      <td>0</td>\n",
       "      <td>0</td>\n",
       "      <td>0</td>\n",
       "      <td>0</td>\n",
       "      <td>0</td>\n",
       "      <td>0</td>\n",
       "      <td>0</td>\n",
       "      <td>0</td>\n",
       "      <td>0</td>\n",
       "    </tr>\n",
       "    <tr>\n",
       "      <th>2</th>\n",
       "      <td>49</td>\n",
       "      <td>72</td>\n",
       "      <td>86</td>\n",
       "      <td>336</td>\n",
       "      <td>184</td>\n",
       "      <td>0</td>\n",
       "      <td>0</td>\n",
       "      <td>0</td>\n",
       "      <td>0</td>\n",
       "      <td>0</td>\n",
       "      <td>0</td>\n",
       "      <td>0</td>\n",
       "      <td>0</td>\n",
       "      <td>0</td>\n",
       "      <td>0</td>\n",
       "    </tr>\n",
       "    <tr>\n",
       "      <th>3</th>\n",
       "      <td>372</td>\n",
       "      <td>452</td>\n",
       "      <td>86</td>\n",
       "      <td>59</td>\n",
       "      <td>35</td>\n",
       "      <td>0</td>\n",
       "      <td>0</td>\n",
       "      <td>0</td>\n",
       "      <td>0</td>\n",
       "      <td>0</td>\n",
       "      <td>0</td>\n",
       "      <td>0</td>\n",
       "      <td>0</td>\n",
       "      <td>0</td>\n",
       "      <td>0</td>\n",
       "    </tr>\n",
       "    <tr>\n",
       "      <th>4</th>\n",
       "      <td>273</td>\n",
       "      <td>195</td>\n",
       "      <td>486</td>\n",
       "      <td>84</td>\n",
       "      <td>74</td>\n",
       "      <td>214</td>\n",
       "      <td>30</td>\n",
       "      <td>0</td>\n",
       "      <td>0</td>\n",
       "      <td>0</td>\n",
       "      <td>0</td>\n",
       "      <td>0</td>\n",
       "      <td>0</td>\n",
       "      <td>0</td>\n",
       "      <td>0</td>\n",
       "    </tr>\n",
       "  </tbody>\n",
       "</table>\n",
       "</div>"
      ],
      "text/plain": [
       "    0    1    2    3    4    5   6   7   8   9   10  11  12  13  14\n",
       "0  232   35    0    0    0    0   0   0   0   0   0   0   0   0   0\n",
       "1   14  386  401  318   61    0   0   0   0   0   0   0   0   0   0\n",
       "2   49   72   86  336  184    0   0   0   0   0   0   0   0   0   0\n",
       "3  372  452   86   59   35    0   0   0   0   0   0   0   0   0   0\n",
       "4  273  195  486   84   74  214  30   0   0   0   0   0   0   0   0"
      ]
     },
     "execution_count": 27,
     "metadata": {},
     "output_type": "execute_result"
    }
   ],
   "source": [
    "df_padded = pd.DataFrame(pad_sequences(df['plot_tag_num_rep'], maxlen=15, padding='post'))\n",
    "df_padded.head()"
   ]
  },
  {
   "cell_type": "markdown",
   "metadata": {},
   "source": [
    "### Model Implementation - Word Embedding"
   ]
  },
  {
   "cell_type": "markdown",
   "metadata": {},
   "source": [
    "Embedding neural network has an embedding layer which requires parameter like <br>\n",
    "\n",
    "- Maximum interger index of the vocabulary (tokenized dictionary) <br>\n",
    "- Number of dimensions for each word representation "
   ]
  },
  {
   "cell_type": "markdown",
   "metadata": {},
   "source": [
    "Each word in the vocabulary is represented by specified n-dimensional dense vectors also known as weights in n-dimensional space (These weights are initially some random real values). The embedding layer maps the vocabulary index input to retrieve its corresponding weights vector whenever that word is sent as an input to the model. <br>*For example, in a five-dimensional space, word \"happy\" may have it's weight vector as [0.5, 0.22, 0.19, 0, 0.8]* <br><br>\n",
    "These weight vectors are trained against genres, and during the training the model tries to update the weights in the embedding space in such a way that the weight vectors with the same genre are placed close to each other in that embedding space.\n",
    "    \n",
    "**The goal of the model is to train the weights for each word with genres as its target variable** and the resultant weights that we get after the training process are called embedding weights or embeddings."
   ]
  },
  {
   "cell_type": "code",
   "execution_count": 28,
   "metadata": {},
   "outputs": [
    {
     "name": "stdout",
     "output_type": "stream",
     "text": [
      "WARNING:tensorflow:Large dropout rate: 0.65 (>0.5). In TensorFlow 2.x, dropout() uses dropout rate instead of keep_prob. Please ensure that this is intended.\n",
      "Model: \"sequential_1\"\n",
      "_________________________________________________________________\n",
      "Layer (type)                 Output Shape              Param #   \n",
      "=================================================================\n",
      "embedding_1 (Embedding)      (None, 15, 20)            12400     \n",
      "_________________________________________________________________\n",
      "flatten_1 (Flatten)          (None, 300)               0         \n",
      "_________________________________________________________________\n",
      "dropout_1 (Dropout)          (None, 300)               0         \n",
      "_________________________________________________________________\n",
      "dense_1 (Dense)              (None, 20)                6020      \n",
      "_________________________________________________________________\n",
      "dense_2 (Dense)              (None, 18)                378       \n",
      "=================================================================\n",
      "Total params: 18,798\n",
      "Trainable params: 18,798\n",
      "Non-trainable params: 0\n",
      "_________________________________________________________________\n",
      "None\n"
     ]
    }
   ],
   "source": [
    "model = Sequential()\n",
    "model.add(Embedding(max(token.index_word)+1, 20, input_length=15))    ### Vocab size + 1\n",
    "model.add(Flatten())\n",
    "model.add(Dropout(0.65))                 ### To avoid overfitting\n",
    "model.add(Dense(20, activation='relu'))  ### Having a dense layer is optional\n",
    "model.add(Dense(18, activation='sigmoid'))\n",
    "\n",
    "model.compile(optimizer='adam', loss='binary_crossentropy')\n",
    "print(model.summary())  # summarize the model"
   ]
  },
  {
   "cell_type": "markdown",
   "metadata": {},
   "source": [
    "<div class=\"alert alert-block alert-warning\">\n",
    "    <b>Sigmoid</b> - Output layer activation function \n",
    "    \n",
    "<U>Why softmax activation cannot be used?</U><br>\n",
    "Because with softmax, the output from the neurons are dependent on each other with the probabilities distributed from 0 to 1 across all the output neurons. When dealing with multi-label classification, this will cause a problem as there will be a need to activate more than one neuron for each observation. \n",
    "\n",
    "Sigmoid activation helps us solve this problem as its output is independent with each other with probabilites ranging from 0 to 1 for each neuron.\n",
    "</div>"
   ]
  },
  {
   "cell_type": "code",
   "execution_count": 29,
   "metadata": {
    "scrolled": true
   },
   "outputs": [
    {
     "data": {
      "text/plain": [
       "<keras.callbacks.callbacks.History at 0x231b3330198>"
      ]
     },
     "execution_count": 29,
     "metadata": {},
     "output_type": "execute_result"
    }
   ],
   "source": [
    "model.fit(X_train, y_train, epochs=200, class_weight = \"balanced\", batch_size = 100, verbose=0)"
   ]
  },
  {
   "cell_type": "markdown",
   "metadata": {},
   "source": [
    "### Model Evaluation and choosing the optimal threshold probability"
   ]
  },
  {
   "cell_type": "code",
   "execution_count": 30,
   "metadata": {},
   "outputs": [
    {
     "data": {
      "image/png": "[encoded data removed]",
      "text/plain": [
       "<Figure size 432x432 with 1 Axes>"
      ]
     },
     "metadata": {
      "needs_background": "light"
     },
     "output_type": "display_data"
    }
   ],
   "source": [
    "predictions=model.predict(X_test)\n",
    "thresholds=[0.1,0.2,0.3,0.4,0.5,0.6,0.7,0.8,0.9]\n",
    "recall = []\n",
    "f1 = []\n",
    "for val in thresholds:\n",
    "    pred=predictions.copy()\n",
    "  \n",
    "    pred[pred>=val]=1\n",
    "    pred[pred<val]=0\n",
    "  \n",
    "    recall.append(recall_score(y_test, pred, average='micro'))\n",
    "    f1.append(f1_score(y_test, pred, average='micro'))\n",
    "    \n",
    "thresholds_df = pd.DataFrame({'Threshold': thresholds, 'Recall': recall, 'F1 Scores': f1})\n",
    "plt.figure(figsize=(6,6))\n",
    "plt.plot(thresholds_df['Threshold'],thresholds_df['Recall'])\n",
    "plt.plot(thresholds_df['Threshold'],thresholds_df['F1 Scores'])\n",
    "plt.title(\"Thresholds Vs F1 Score & Recall\",fontsize=20)\n",
    "plt.xlabel(\"Threshold\",fontsize=20)\n",
    "plt.ylabel(\"Scores\",fontsize=20)\n",
    "plt.legend(['Recall','F1 Score'])\n",
    "plt.show()"
   ]
  },
  {
   "cell_type": "markdown",
   "metadata": {},
   "source": [
    "<div class=\"alert alert-block alert-success\">\n",
    "    On experimenting with various probability thresholds, we find that the <b>0.2</b> seems to be the optimal thresold as it's gives out the highest F1-Score which will be used further for predicting the genre classes\n",
    "</div>"
   ]
  },
  {
   "cell_type": "markdown",
   "metadata": {},
   "source": [
    "### Experimenting with Epochs"
   ]
  },
  {
   "cell_type": "code",
   "execution_count": 25,
   "metadata": {},
   "outputs": [],
   "source": [
    "epoch_list = [50,100,150,200,300,350,400]\n",
    "test_scores_list = []\n",
    "train_scores_list = []\n",
    "epochs_df = pd.DataFrame()\n",
    "for epoch in epoch_list:\n",
    "    model.fit(X_train, y_train, epochs=epoch, class_weight = \"balanced\", batch_size = 100, verbose=0)\n",
    "    pred_train=model.predict(X_train)\n",
    "    pred_test=model.predict(X_test)\n",
    "    ###Predicting classes for training data with threshold 0.2\n",
    "    pred_train[pred_train>=0.2]=1\n",
    "    pred_train[pred_train<0.2]=0\n",
    "    ###Predicting classes for testing data with threshold 0.2\n",
    "    pred_test[pred_test>=0.2]=1\n",
    "    pred_test[pred_test<0.2]=0\n",
    "    \n",
    "    train_scores = f1_score(y_train, pred_train, average='micro')\n",
    "    train_scores_list.append(train_scores)\n",
    "    test_scores = f1_score(y_test, pred_test, average='micro')\n",
    "    test_scores_list.append(test_scores)\n",
    "\n"
   ]
  },
  {
   "cell_type": "code",
   "execution_count": 26,
   "metadata": {},
   "outputs": [
    {
     "data": {
      "image/png": "[encoded data removed]",
      "text/plain": [
       "<Figure size 432x432 with 1 Axes>"
      ]
     },
     "metadata": {
      "needs_background": "light"
     },
     "output_type": "display_data"
    }
   ],
   "source": [
    "epochs_df = pd.DataFrame({'Epochs': epoch_list, 'Train Scores': train_scores_list, 'Test Scores': test_scores_list})\n",
    "plt.figure(figsize=(6,6))\n",
    "plt.plot(epochs_df['Epochs'],epochs_df['Train Scores'])\n",
    "plt.plot(epochs_df['Epochs'],epochs_df['Test Scores'])\n",
    "plt.title(\"Epochs Vs F1 Score\",fontsize=20)\n",
    "plt.xlabel(\"Epoch\",fontsize=20)\n",
    "plt.ylabel(\"F1 Score\",fontsize=20)\n",
    "plt.legend(['Training','Validation'])\n",
    "plt.ylim(0,1)\n",
    "plt.show()"
   ]
  },
  {
   "cell_type": "markdown",
   "metadata": {},
   "source": [
    "### Model Evaluation for each genre"
   ]
  },
  {
   "cell_type": "markdown",
   "metadata": {},
   "source": [
    "Let's see how well the model is predicting the genres using the trained word embeddings"
   ]
  },
  {
   "cell_type": "code",
   "execution_count": 41,
   "metadata": {},
   "outputs": [
    {
     "data": {
      "image/png": "[encoded data removed]",
      "text/plain": [
       "<Figure size 720x504 with 1 Axes>"
      ]
     },
     "metadata": {
      "needs_background": "light"
     },
     "output_type": "display_data"
    }
   ],
   "source": [
    "model.fit(X_train, y_train, epochs=500, class_weight = \"balanced\", batch_size = 100, verbose=0)\n",
    "pred=model.predict(X_test)\n",
    "pred[pred>=0.2]=1\n",
    "pred[pred<0.2]=0\n",
    "\n",
    "report = classification_report(y_test, pred,target_names=multilabel_binarizer.classes_,digits=2,output_dict=True)\n",
    "df_report = pd.DataFrame(pd.DataFrame(report).transpose()['f1-score'])\n",
    "df_report = df_report.head(-4)\n",
    "\n",
    "plt.figure(figsize=(10,7))\n",
    "plt.barh(y=df_report.index, width=df_report['f1-score'],align='center')\n",
    "plt.xlabel(\"F1 Score\",fontsize=20)\n",
    "plt.ylabel(\"Genre\",fontsize=20)\n",
    "plt.title(\"F1 Scores for each genre\",fontsize=20)\n",
    "plt.show()"
   ]
  },
  {
   "cell_type": "markdown",
   "metadata": {},
   "source": [
    "<div class=\"alert alert-block alert-success\">\n",
    "The F1-scores seem to be uneven for the genres. This may be due to the presense of high imbalance in the data. Genres like History, Family have very low F1-scores as the number of observations for that genre are relatively low when compared to the other genres\n",
    "</div>"
   ]
  },
  {
   "cell_type": "markdown",
   "metadata": {},
   "source": [
    "### Extracting Embedding layer weights"
   ]
  },
  {
   "cell_type": "code",
   "execution_count": 43,
   "metadata": {},
   "outputs": [],
   "source": [
    "embedding_layer = model.get_layer(name=\"embedding_1\")\n",
    "weights = embedding_layer.get_weights()[0]"
   ]
  },
  {
   "cell_type": "code",
   "execution_count": 44,
   "metadata": {},
   "outputs": [
    {
     "name": "stdout",
     "output_type": "stream",
     "text": [
      "Model: \"sequential_1\"\n",
      "_________________________________________________________________\n",
      "Layer (type)                 Output Shape              Param #   \n",
      "=================================================================\n",
      "embedding_1 (Embedding)      (None, 15, 20)            12400     \n",
      "_________________________________________________________________\n",
      "flatten_1 (Flatten)          (None, 300)               0         \n",
      "_________________________________________________________________\n",
      "dropout_1 (Dropout)          (None, 300)               0         \n",
      "_________________________________________________________________\n",
      "dense_1 (Dense)              (None, 20)                6020      \n",
      "_________________________________________________________________\n",
      "dense_2 (Dense)              (None, 18)                378       \n",
      "=================================================================\n",
      "Total params: 18,798\n",
      "Trainable params: 18,798\n",
      "Non-trainable params: 0\n",
      "_________________________________________________________________\n"
     ]
    }
   ],
   "source": [
    "model.summary()"
   ]
  },
  {
   "cell_type": "markdown",
   "metadata": {},
   "source": [
    "### Finding similar words"
   ]
  },
  {
   "cell_type": "markdown",
   "metadata": {},
   "source": [
    "Similarity between words can be determined using the **dot product** or the **cosine similarity** of the word's weight vectors. Similar words will have this value to be closer to 1."
   ]
  },
  {
   "cell_type": "code",
   "execution_count": 56,
   "metadata": {},
   "outputs": [
    {
     "data": {
      "image/png": "[encoded data removed]",
      "text/plain": [
       "<Figure size 504x360 with 1 Axes>"
      ]
     },
     "metadata": {
      "needs_background": "light"
     },
     "output_type": "display_data"
    }
   ],
   "source": [
    "word = \"fear\"\n",
    "similar_matrix = np.dot(weights, weights[token.word_index[word]])\n",
    "similar_scores = np.sort(similar_matrix)[::-1][:10]\n",
    "index_similar = np.argsort(similar_matrix)[-10:][::-1]\n",
    "\n",
    "similar_words = []\n",
    "for i in index_similar:\n",
    "    similar_words.append(token.index_word[i])\n",
    "    \n",
    "plt.figure(figsize=(7,5))\n",
    "plt.barh(y=similar_words[::-1], width=similar_scores[::-1],align='center')\n",
    "plt.xlabel(\"Similarity Scores\",fontsize=20)\n",
    "plt.ylabel(\"Word\",fontsize=20)\n",
    "plt.title(\"Top 10 words similar to \" +word,fontsize=20)\n",
    "plt.show()"
   ]
  },
  {
   "cell_type": "markdown",
   "metadata": {},
   "source": [
    "### Recommendation of movies using word similarities from plots and other features"
   ]
  },
  {
   "cell_type": "markdown",
   "metadata": {},
   "source": [
    "Word Embeddings, movie genres, movie title names and movie actors are taken into consideration while recommending the movies. \n",
    "\n",
    "<u><b>Approach used:</b></u><br>\n",
    "When a movie title is given as input, its corresponding plot tags, genres and actors are retrieved<br>\n",
    "Top similar words similar to the plot tags of the input movie are found using the word embeddings created<br>\n",
    "\n",
    ">The following scores are calculated <br>\n",
    "- Jaccard Score of \"Similar tags found\" and the \"plot tags\" for each movie<br>\n",
    "- Jaccard Score of \"Input movie genre\" and the \"genres\" for each movie <br>\n",
    "- Movie titles match score to check for sequel or prequel \n",
    "\n",
    "Weights are given to each of these scores and the final scores are summed and sorted in descending order to recommend the movies"
   ]
  },
  {
   "cell_type": "code",
   "execution_count": 57,
   "metadata": {},
   "outputs": [],
   "source": [
    "def recommended_movies(genre,tags,title,actors):\n",
    "    \n",
    "    genre = set(genre.split(', '))\n",
    "    tags = set(tags)\n",
    "    actors = set(actors.split(', '))\n",
    "    jaccard_score_plot = 0\n",
    "    stop = stopwords.words('english')\n",
    "    title_cleaned = title.split()\n",
    "    input_movie_cleaned = input_movie.split()\n",
    "    title_cleaned = \" \".join([item for item in title_cleaned if item.lower() not in stop])\n",
    "    input_movie_cleaned = \" \".join([item for item in input_movie_cleaned if item.lower() not in stop])\n",
    "    \n",
    "    for i in similar_plots:\n",
    "        jaccard_score_plot = jaccard_score_plot + len(set(i).intersection(tags)) / len(set(i).union(tags))\n",
    "    \n",
    "    jaccard_score_plot = jaccard_score_plot/len(similar_plots)\n",
    "    jaccard_score_genre = len(input_movie_genre.intersection(genre)) / len(input_movie_genre.union(genre))\n",
    "    \n",
    "    if SequenceMatcher(None, input_movie_cleaned,title_cleaned).ratio() > 0.50 and fuzz.token_set_ratio(input_movie_cleaned,title_cleaned) == 100:\n",
    "        if len(input_movie_actors.intersection(actors)) >= 1 :\n",
    "            string_match_score = 1\n",
    "        else:\n",
    "            string_match_score = 0\n",
    "    else:\n",
    "        string_match_score = 0\n",
    "    \n",
    "    return (jaccard_score_plot) + (0.1*jaccard_score_genre) + (0.5*string_match_score)\n",
    "    "
   ]
  },
  {
   "cell_type": "code",
   "execution_count": 58,
   "metadata": {},
   "outputs": [
    {
     "data": {
      "text/html": [
       "<div>\n",
       "<style scoped>\n",
       "    .dataframe tbody tr th:only-of-type {\n",
       "        vertical-align: middle;\n",
       "    }\n",
       "\n",
       "    .dataframe tbody tr th {\n",
       "        vertical-align: top;\n",
       "    }\n",
       "\n",
       "    .dataframe thead th {\n",
       "        text-align: right;\n",
       "    }\n",
       "</style>\n",
       "<table border=\"1\" class=\"dataframe\">\n",
       "  <thead>\n",
       "    <tr style=\"text-align: right;\">\n",
       "      <th></th>\n",
       "      <th>title</th>\n",
       "      <th>genre</th>\n",
       "      <th>jaccard_score</th>\n",
       "    </tr>\n",
       "  </thead>\n",
       "  <tbody>\n",
       "    <tr>\n",
       "      <th>1722</th>\n",
       "      <td>Batman v Superman: Dawn of Justice</td>\n",
       "      <td>Action, Adventure, Sci-Fi</td>\n",
       "      <td>0.700000</td>\n",
       "    </tr>\n",
       "    <tr>\n",
       "      <th>115</th>\n",
       "      <td>Godzilla</td>\n",
       "      <td>Action, Adventure, Sci-Fi</td>\n",
       "      <td>0.225000</td>\n",
       "    </tr>\n",
       "    <tr>\n",
       "      <th>5142</th>\n",
       "      <td>Transformers: Revenge of the Fallen</td>\n",
       "      <td>Action, Adventure, Sci-Fi</td>\n",
       "      <td>0.183333</td>\n",
       "    </tr>\n",
       "    <tr>\n",
       "      <th>2941</th>\n",
       "      <td>X-Men: The New Mutants</td>\n",
       "      <td>Action, Sci-Fi</td>\n",
       "      <td>0.166667</td>\n",
       "    </tr>\n",
       "    <tr>\n",
       "      <th>905</th>\n",
       "      <td>Guardians of the Galaxy</td>\n",
       "      <td>Action, Adventure, Sci-Fi</td>\n",
       "      <td>0.162500</td>\n",
       "    </tr>\n",
       "    <tr>\n",
       "      <th>4049</th>\n",
       "      <td>Kull the Conqueror</td>\n",
       "      <td>Fantasy, Action, Adventure</td>\n",
       "      <td>0.150000</td>\n",
       "    </tr>\n",
       "    <tr>\n",
       "      <th>28</th>\n",
       "      <td>John Carter</td>\n",
       "      <td>Action, Adventure, Sci-Fi</td>\n",
       "      <td>0.150000</td>\n",
       "    </tr>\n",
       "    <tr>\n",
       "      <th>6860</th>\n",
       "      <td>Spectral</td>\n",
       "      <td>Action, Mystery, Sci-Fi</td>\n",
       "      <td>0.150000</td>\n",
       "    </tr>\n",
       "    <tr>\n",
       "      <th>922</th>\n",
       "      <td>The Great Wall</td>\n",
       "      <td>Action, Adventure, Fantasy</td>\n",
       "      <td>0.150000</td>\n",
       "    </tr>\n",
       "    <tr>\n",
       "      <th>1299</th>\n",
       "      <td>Avengers: Age of Ultron</td>\n",
       "      <td>Action, Adventure, Sci-Fi</td>\n",
       "      <td>0.150000</td>\n",
       "    </tr>\n",
       "  </tbody>\n",
       "</table>\n",
       "</div>"
      ],
      "text/plain": [
       "                                    title                       genre  \\\n",
       "1722   Batman v Superman: Dawn of Justice   Action, Adventure, Sci-Fi   \n",
       "115                              Godzilla   Action, Adventure, Sci-Fi   \n",
       "5142  Transformers: Revenge of the Fallen   Action, Adventure, Sci-Fi   \n",
       "2941               X-Men: The New Mutants              Action, Sci-Fi   \n",
       "905               Guardians of the Galaxy   Action, Adventure, Sci-Fi   \n",
       "4049                   Kull the Conqueror  Fantasy, Action, Adventure   \n",
       "28                            John Carter   Action, Adventure, Sci-Fi   \n",
       "6860                             Spectral     Action, Mystery, Sci-Fi   \n",
       "922                        The Great Wall  Action, Adventure, Fantasy   \n",
       "1299              Avengers: Age of Ultron   Action, Adventure, Sci-Fi   \n",
       "\n",
       "      jaccard_score  \n",
       "1722       0.700000  \n",
       "115        0.225000  \n",
       "5142       0.183333  \n",
       "2941       0.166667  \n",
       "905        0.162500  \n",
       "4049       0.150000  \n",
       "28         0.150000  \n",
       "6860       0.150000  \n",
       "922        0.150000  \n",
       "1299       0.150000  "
      ]
     },
     "execution_count": 58,
     "metadata": {},
     "output_type": "execute_result"
    }
   ],
   "source": [
    "input_movie = \"Batman v Superman: Dawn of Justice\"\n",
    "df['actors_list'] = df['actors'].apply(lambda x: x.split(', '))\n",
    "input_movie_plot_tags = df[df['title'] == input_movie]['plot_tag_num_rep'].tolist()\n",
    "input_movie_genre = set(df[df['title'] == input_movie]['genres_list'].tolist()[0])\n",
    "input_movie_actors = set(df[df['title'] == input_movie]['actors_list'].tolist()[0])\n",
    "\n",
    "similar_plots = []\n",
    "for i in input_movie_plot_tags[0]:\n",
    "    similar_plots.append(np.argsort(np.dot(weights, weights[i]))[-4:][::-1].tolist())\n",
    "    \n",
    "df_similar_movies = pd.DataFrame()\n",
    "df_similar_movies['title'] = df['title']\n",
    "df_similar_movies['genre'] = df['genre']\n",
    "\n",
    "df_similar_movies['jaccard_score']=df.apply(lambda x: recommended_movies(x.genre,x.plot_tag_num_rep,x.title,x.actors),axis=1)\n",
    "df_similar_movies.sort_values(by=\"jaccard_score\", ascending = False).head(10)"
   ]
  }
 ],
 "metadata": {
  "kernelspec": {
   "display_name": "Python 3",
   "language": "python",
   "name": "python3"
  },
  "language_info": {
   "codemirror_mode": {
    "name": "ipython",
    "version": 3
   },
   "file_extension": ".py",
   "mimetype": "text/x-python",
   "name": "python",
   "nbconvert_exporter": "python",
   "pygments_lexer": "ipython3",
   "version": "3.6.9"
  }
 },
 "nbformat": 4,
 "nbformat_minor": 2
}
